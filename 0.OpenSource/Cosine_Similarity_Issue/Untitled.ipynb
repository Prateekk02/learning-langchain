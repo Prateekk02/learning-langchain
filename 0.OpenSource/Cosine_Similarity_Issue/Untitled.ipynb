{
 "cells": [
  {
   "cell_type": "markdown",
   "id": "ecd6f7a3-c23c-4630-82f3-3d4a431c3a07",
   "metadata": {},
   "source": [
    "# Cosine Similarity Inconsistency Issue"
   ]
  },
  {
   "cell_type": "code",
   "execution_count": 1,
   "id": "779775cb-3bcc-4466-9ab2-dbb14833ab6d",
   "metadata": {},
   "outputs": [
    {
     "name": "stdout",
     "output_type": "stream",
     "text": [
      "(0,)\n"
     ]
    }
   ],
   "source": [
    "import numpy as np\n",
    "from langchain_core.vectorstores.utils import _cosine_similarity\n",
    "\n",
    "x = np.array([[1.0, 2.0]]) \n",
    "y = np.array([])\n",
    "\n",
    "\n",
    "result = _cosine_similarity(x, y)\n",
    "print(result.shape)  # Got (0,), expected (1, 0)"
   ]
  },
  {
   "cell_type": "code",
   "execution_count": 2,
   "id": "fae17650-11f0-400f-8ec7-30fee8a69eb3",
   "metadata": {},
   "outputs": [
    {
     "name": "stdout",
     "output_type": "stream",
     "text": [
      "Case 1 - x: (1, 2), y: (0,), result: (0,)\n",
      "Case 2 - x: (1, 2), y: (2, 2), result: (1, 2)\n",
      "Case 3 - x: (0, 2), y: (1, 2), result: (0,)\n",
      "Case 4 - x: (0, 2), y: (0, 2), result: (0,)\n"
     ]
    }
   ],
   "source": [
    "import numpy as np\n",
    "from langchain_core.vectorstores.utils import _cosine_similarity\n",
    "\n",
    "# Test case 1: The problematic case\n",
    "x = np.array([[1.0, 2.0]]) \n",
    "y = np.array([])\n",
    "result = _cosine_similarity(x, y)\n",
    "print(f\"Case 1 - x: {x.shape}, y: {y.shape}, result: {result.shape}\")\n",
    "\n",
    "# Test case 2: Normal case for comparison\n",
    "x = np.array([[1.0, 2.0]]) \n",
    "y = np.array([[3.0, 4.0], [1.0, 1.0]])\n",
    "result = _cosine_similarity(x, y)\n",
    "print(f\"Case 2 - x: {x.shape}, y: {y.shape}, result: {result.shape}\")\n",
    "\n",
    "# Test case 3: Empty x, non-empty y\n",
    "x = np.array([]).reshape(0, 2)\n",
    "y = np.array([[3.0, 4.0]])\n",
    "result = _cosine_similarity(x, y)\n",
    "print(f\"Case 3 - x: {x.shape}, y: {y.shape}, result: {result.shape}\")\n",
    "\n",
    "# Test case 4: Both empty\n",
    "x = np.array([]).reshape(0, 2)\n",
    "y = np.array([]).reshape(0, 2)\n",
    "result = _cosine_similarity(x, y)\n",
    "print(f\"Case 4 - x: {x.shape}, y: {y.shape}, result: {result.shape}\")"
   ]
  },
  {
   "cell_type": "code",
   "execution_count": 3,
   "id": "48033f30-41d2-4a1b-8684-3a40c3df22dc",
   "metadata": {},
   "outputs": [
    {
     "name": "stdout",
     "output_type": "stream",
     "text": [
      "def _cosine_similarity(x: Matrix, y: Matrix) -> np.ndarray:\n",
      "    \"\"\"Row-wise cosine similarity between two equal-width matrices.\n",
      "\n",
      "    Args:\n",
      "        x: A matrix of shape (n, m).\n",
      "        y: A matrix of shape (k, m).\n",
      "\n",
      "    Returns:\n",
      "        A matrix of shape (n, k) where each element (i, j) is the cosine similarity\n",
      "        between the ith row of X and the jth row of Y.\n",
      "\n",
      "    Raises:\n",
      "        ValueError: If the number of columns in X and Y are not the same.\n",
      "        ImportError: If numpy is not installed.\n",
      "    \"\"\"\n",
      "    try:\n",
      "        import numpy as np\n",
      "    except ImportError as e:\n",
      "        msg = (\n",
      "            \"cosine_similarity requires numpy to be installed. \"\n",
      "            \"Please install numpy with `pip install numpy`.\"\n",
      "        )\n",
      "        raise ImportError(msg) from e\n",
      "\n",
      "    if len(x) == 0 or len(y) == 0:\n",
      "        return np.array([])\n",
      "\n",
      "    x = np.array(x)\n",
      "    y = np.array(y)\n",
      "    if x.shape[1] != y.shape[1]:\n",
      "        msg = (\n",
      "            f\"Number of columns in X and Y must be the same. X has shape {x.shape} \"\n",
      "            f\"and Y has shape {y.shape}.\"\n",
      "        )\n",
      "        raise ValueError(msg)\n",
      "    try:\n",
      "        import simsimd as simd  # type: ignore[import-not-found]\n",
      "    except ImportError:\n",
      "        logger.debug(\n",
      "            \"Unable to import simsimd, defaulting to NumPy implementation. If you want \"\n",
      "            \"to use simsimd please install with `pip install simsimd`.\"\n",
      "        )\n",
      "        x_norm = np.linalg.norm(x, axis=1)\n",
      "        y_norm = np.linalg.norm(y, axis=1)\n",
      "        # Ignore divide by zero errors run time warnings as those are handled below.\n",
      "        with np.errstate(divide=\"ignore\", invalid=\"ignore\"):\n",
      "            similarity = np.dot(x, y.T) / np.outer(x_norm, y_norm)\n",
      "        similarity[np.isnan(similarity) | np.isinf(similarity)] = 0.0\n",
      "        return similarity\n",
      "\n",
      "    x = np.array(x, dtype=np.float32)\n",
      "    y = np.array(y, dtype=np.float32)\n",
      "    return 1 - np.array(simd.cdist(x, y, metric=\"cosine\"))\n",
      "\n"
     ]
    }
   ],
   "source": [
    "# Look at the actual implementation\n",
    "import inspect\n",
    "print(inspect.getsource(_cosine_similarity))"
   ]
  },
  {
   "cell_type": "markdown",
   "id": "a117f499-8f23-4119-aa9d-b841da7677b3",
   "metadata": {},
   "source": [
    "## Test Cases"
   ]
  },
  {
   "cell_type": "code",
   "execution_count": 4,
   "id": "575de0c0-ca86-4ebd-a1f6-9bdf3d59ed9b",
   "metadata": {},
   "outputs": [],
   "source": [
    "def test_cosine_similarity_edge_cases():\n",
    "    \"\"\"Test various edge cases to understand the behavior pattern\"\"\"\n",
    "    test_cases = [\n",
    "        (np.array([[1.0, 2.0]]), np.array([]), \"non-empty x, empty y\"),\n",
    "        (np.array([]).reshape(0, 2), np.array([[3.0, 4.0]]), \"empty x, non-empty y\"),\n",
    "        (np.array([]).reshape(0, 2), np.array([]).reshape(0, 2), \"both empty\"),\n",
    "        (np.array([[1.0, 2.0], [3.0, 4.0]]), np.array([]), \"multiple x, empty y\"),\n",
    "    ]\n",
    "    \n",
    "    for x, y, description in test_cases:\n",
    "        try:\n",
    "            result = _cosine_similarity(x, y)\n",
    "            print(f\"{description}: x{x.shape} × y{y.shape} → result{result.shape}\")\n",
    "        except Exception as e:\n",
    "            print(f\"{description}: ERROR - {e}\")"
   ]
  },
  {
   "cell_type": "code",
   "execution_count": 5,
   "id": "0c3a1fec-92ce-42bc-afea-e87b6f851b25",
   "metadata": {},
   "outputs": [
    {
     "name": "stdout",
     "output_type": "stream",
     "text": [
      "non-empty x, empty y: x(1, 2) × y(0,) → result(0,)\n",
      "empty x, non-empty y: x(0, 2) × y(1, 2) → result(0,)\n",
      "both empty: x(0, 2) × y(0, 2) → result(0,)\n",
      "multiple x, empty y: x(2, 2) × y(0,) → result(0,)\n"
     ]
    }
   ],
   "source": [
    "test_cosine_similarity_edge_cases()"
   ]
  },
  {
   "cell_type": "code",
   "execution_count": 6,
   "id": "646e9aed-3274-4add-8d9e-e9330b68c288",
   "metadata": {},
   "outputs": [
    {
     "name": "stdout",
     "output_type": "stream",
     "text": [
      "sklearn error: Found array with 0 sample(s) (shape=(0, 2)) while a minimum of 1 is required by check_pairwise_arrays.\n"
     ]
    }
   ],
   "source": [
    "from sklearn.metrics.pairwise import cosine_similarity as sklearn_cosine\n",
    "\n",
    "# Test sklearn's behavior\n",
    "try:\n",
    "    x = np.array([[1.0, 2.0]])\n",
    "    y = np.array([]).reshape(0, 2)  # Properly shaped empty array\n",
    "    sklearn_result = sklearn_cosine(x, y)\n",
    "    print(f\"sklearn result shape: {sklearn_result.shape}\")\n",
    "except Exception as e:\n",
    "    print(f\"sklearn error: {e}\")"
   ]
  },
  {
   "cell_type": "code",
   "execution_count": null,
   "id": "f7b858b1-b4db-403a-9de0-a8ab0061433c",
   "metadata": {},
   "outputs": [],
   "source": []
  }
 ],
 "metadata": {
  "kernelspec": {
   "display_name": "Python 3 (ipykernel)",
   "language": "python",
   "name": "python3"
  },
  "language_info": {
   "codemirror_mode": {
    "name": "ipython",
    "version": 3
   },
   "file_extension": ".py",
   "mimetype": "text/x-python",
   "name": "python",
   "nbconvert_exporter": "python",
   "pygments_lexer": "ipython3",
   "version": "3.12.5"
  }
 },
 "nbformat": 4,
 "nbformat_minor": 5
}
