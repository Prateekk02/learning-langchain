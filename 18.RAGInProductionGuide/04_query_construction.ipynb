{
 "cells": [
  {
   "cell_type": "markdown",
   "id": "176fddbb",
   "metadata": {},
   "source": [
    "# Query Construction"
   ]
  },
  {
   "cell_type": "code",
   "execution_count": 1,
   "id": "7c4421fa",
   "metadata": {},
   "outputs": [],
   "source": [
    "from langchain_yt_dlp.youtube_loader import YoutubeLoaderDL\n",
    "\n",
    "url = \"https://www.youtube.com/watch?v=dQw4w9WgXcQ\"\n",
    "\n",
    "docs = YoutubeLoaderDL.from_youtube_url(\n",
    "    url,\n",
    "    add_video_info=True\n",
    ").load()\n",
    "\n"
   ]
  },
  {
   "cell_type": "code",
   "execution_count": 2,
   "id": "91842628",
   "metadata": {},
   "outputs": [
    {
     "data": {
      "text/plain": [
       "{'source': 'dQw4w9WgXcQ',\n",
       " 'title': 'Rick Astley - Never Gonna Give You Up (Official Video) (4K Remaster)',\n",
       " 'description': 'The official video for “Never Gonna Give You Up” by Rick Astley. \\n\\nNever: The Autobiography 📚 OUT NOW! \\nFollow this link to get your copy and listen to Rick’s ‘Never’ playlist ❤️ #RickAstleyNever\\nhttps://linktr.ee/rickastleynever\\n\\n“Never Gonna Give You Up” was a global smash on its release in July 1987, topping the charts in 25 countries including Rick’s native UK and the US Billboard Hot 100.  It also won the Brit Award for Best single in 1988. Stock Aitken and Waterman wrote and produced the track which was the lead-off single and lead track from Rick’s debut LP “Whenever You Need Somebody”.  The album was itself a UK number one and would go on to sell over 15 million copies worldwide.\\n\\nThe legendary video was directed by Simon West – who later went on to make Hollywood blockbusters such as Con Air, Lara Croft – Tomb Raider and The Expendables 2.  The video passed the 1bn YouTube views milestone on 28 July 2021.\\n\\nSubscribe to the official Rick Astley YouTube channel: https://RickAstley.lnk.to/YTSubID\\n\\nFollow Rick Astley:\\nFacebook: https://RickAstley.lnk.to/FBFollowID \\nTwitter: https://RickAstley.lnk.to/TwitterID \\nInstagram: https://RickAstley.lnk.to/InstagramID \\nWebsite: https://RickAstley.lnk.to/storeID \\nTikTok: https://RickAstley.lnk.to/TikTokID\\n\\nListen to Rick Astley:\\nSpotify: https://RickAstley.lnk.to/SpotifyID \\nApple Music: https://RickAstley.lnk.to/AppleMusicID \\nAmazon Music: https://RickAstley.lnk.to/AmazonMusicID \\nDeezer: https://RickAstley.lnk.to/DeezerID \\n\\nLyrics:\\nWe’re no strangers to love\\nYou know the rules and so do I\\nA full commitment’s what I’m thinking of\\nYou wouldn’t get this from any other guy\\n\\nI just wanna tell you how I’m feeling\\nGotta make you understand\\n\\nNever gonna give you up\\nNever gonna let you down\\nNever gonna run around and desert you\\nNever gonna make you cry\\nNever gonna say goodbye\\nNever gonna tell a lie and hurt you\\n\\nWe’ve known each other for so long\\nYour heart’s been aching but you’re too shy to say it\\nInside we both know what’s been going on\\nWe know the game and we’re gonna play it\\n\\nAnd if you ask me how I’m feeling\\nDon’t tell me you’re too blind to see\\n\\nNever gonna give you up\\nNever gonna let you down\\nNever gonna run around and desert you\\nNever gonna make you cry\\nNever gonna say goodbye\\nNever gonna tell a lie and hurt you\\n\\n#RickAstley #NeverGonnaGiveYouUp #WheneverYouNeedSomebody #OfficialMusicVideo',\n",
       " 'view_count': 1672977795,\n",
       " 'publish_date': '2009-10-25',\n",
       " 'length': 213,\n",
       " 'author': 'Rick Astley',\n",
       " 'channel_id': 'UCuAXFkgsw1L7xaCfnd5JJOw',\n",
       " 'webpage_url': 'https://www.youtube.com/watch?v=dQw4w9WgXcQ'}"
      ]
     },
     "execution_count": 2,
     "metadata": {},
     "output_type": "execute_result"
    }
   ],
   "source": [
    "docs[0].metadata"
   ]
  },
  {
   "cell_type": "markdown",
   "id": "eeb9fef9",
   "metadata": {},
   "source": [
    "Let's assume, we have build an index that:\n",
    "1. Allows us to perform ustructured search over the contents and title of each document.\n",
    "2. And to use range filtering on view count , publications date, and length\n",
    "\n",
    "We want to convert natural language into structured search queries\n",
    "We can define a schema for unstructured search query   "
   ]
  },
  {
   "cell_type": "code",
   "execution_count": 21,
   "id": "9a91a960",
   "metadata": {},
   "outputs": [],
   "source": [
    "import datetime\n",
    "from typing import List, Optional, Tuple\n",
    "from pydantic import BaseModel, Field\n",
    "\n",
    "class TutorialSearch(BaseModel):\n",
    "    \"\"\"Search over a database of tutorial videos about a software library\"\"\"\n",
    "    \n",
    "    content_search: str = Field(..., description=\"Similary search query applied to video transcription.\")\n",
    "    title_search: str = Field(..., description=(\"Alternate version of the content search query to apply to video title. Should be succinct and only include key words that could be in a video title.\"))\n",
    "    min_view_count: Optional[int] = Field(None, description=\"Minimum view count filter, inclsive. Only use if explicitly specified.\") \n",
    "    max_view_count: Optional[int] = Field(None, description=\"Minimum view count filter, exclusive. Only use if explicitly specified.\") \n",
    "    earliest_publish_date: Optional[datetime.date] = Field(None, description=\"Earliest publish date filter, inclusive. Only use if explicitly specified.\")\n",
    "    latest_publish_date: Optional[datetime.date] = Field(None, description=\"Latest publish date filter, exclusive. Only use if explicitly specified.\")\n",
    "    min_length_sec: Optional[int] = Field(None, description=\"Minimum video length in seconds, inclusive. Only use if explicitly specified.\")\n",
    "    max_length_sec: Optional[int] = Field(None, description=\"Maximum video length in seconds, exclusive. Only use if explicitly specified.\" )\n",
    "    \n",
    "    def pretty_print(self) -> None:\n",
    "        for field_name, field_info in self.__class__.model_fields.items():\n",
    "            value = getattr(self, field_name)\n",
    "            default = field_info.default\n",
    "            if value is not None and value != default:\n",
    "                print(f\"{field_name}: {value}\")\n",
    "\n",
    "    "
   ]
  },
  {
   "cell_type": "markdown",
   "id": "a80d41ac",
   "metadata": {},
   "source": [
    "Now we prompt the LLM to produce queries"
   ]
  },
  {
   "cell_type": "code",
   "execution_count": 10,
   "id": "fe5e26fb",
   "metadata": {},
   "outputs": [
    {
     "name": "stderr",
     "output_type": "stream",
     "text": [
      "E:\\Learning-Curve\\Langchain\\.venv\\Lib\\site-packages\\langchain_openai\\chat_models\\base.py:1643: UserWarning: Cannot use method='json_schema' with model gpt-3.5-turbo since it doesn't support OpenAI's Structured Output API. You can see supported models here: https://platform.openai.com/docs/guides/structured-outputs#supported-models. To fix this warning, set `method='function_calling'. Overriding to method='function_calling'.\n",
      "  warnings.warn(\n"
     ]
    }
   ],
   "source": [
    "from langchain_core.prompts import ChatPromptTemplate\n",
    "from langchain_openai import ChatOpenAI\n",
    "\n",
    "system=\"\"\"You are an expert an user question to database queries. \\n\n",
    "    You have access to database of tutorial videos about a software library for building LLM-powered applications. \\n\n",
    "    Given a question, return the database query optimized to retrieve the most relevant results.   \n",
    "    If there are acronyms or words you are not familiar with, do try to rephrase them.    \n",
    "\"\"\"\n",
    "\n",
    "prompt = ChatPromptTemplate.from_messages(\n",
    "    [\n",
    "        (\"system\", system), \n",
    "        (\"human\", \"{question}\")\n",
    "    ]\n",
    ") \n",
    "\n",
    "llm = ChatOpenAI()\n",
    "structured_llm = llm.with_structured_output(TutorialSearch)\n",
    "query_analyzer = prompt | structured_llm"
   ]
  },
  {
   "cell_type": "code",
   "execution_count": 22,
   "id": "042711eb",
   "metadata": {},
   "outputs": [
    {
     "name": "stdout",
     "output_type": "stream",
     "text": [
      "content_search: LLM-powered applications\n",
      "title_search: build LLM-powered applications from scratch\n"
     ]
    }
   ],
   "source": [
    "query_analyzer.invoke({\"question\": \"rag from scratch\"}).pretty_print()\n",
    " "
   ]
  },
  {
   "cell_type": "code",
   "execution_count": 24,
   "id": "f311806d",
   "metadata": {},
   "outputs": [
    {
     "name": "stdout",
     "output_type": "stream",
     "text": [
      "content_search: chat language\n",
      "title_search: 2013\n",
      "earliest_publish_date: 2013-01-01\n",
      "latest_publish_date: 2014-01-01\n"
     ]
    }
   ],
   "source": [
    "query_analyzer.invoke({\"question\": \"video on chat language published in 2013\"}).pretty_print()"
   ]
  },
  {
   "cell_type": "code",
   "execution_count": 27,
   "id": "bcedf9dd",
   "metadata": {},
   "outputs": [
    {
     "name": "stdout",
     "output_type": "stream",
     "text": [
      "content_search: chat language\n",
      "title_search: chat language\n",
      "latest_publish_date: 2024-01-01\n"
     ]
    }
   ],
   "source": [
    "query_analyzer.invoke({\"question\": \"video focusing on topic of chat language that are published before 2024\"}).pretty_print()"
   ]
  },
  {
   "cell_type": "code",
   "execution_count": 25,
   "id": "43b10939",
   "metadata": {},
   "outputs": [
    {
     "name": "stdout",
     "output_type": "stream",
     "text": [
      "content_search: multimodel models in agent\n",
      "title_search: multimodel models agent\n",
      "max_length_sec: 300\n"
     ]
    }
   ],
   "source": [
    "query_analyzer.invoke({\"question\": \"How to use multimodel models in agent, only videos under 5 minutes\" }).pretty_print()"
   ]
  },
  {
   "cell_type": "markdown",
   "id": "d8b51270",
   "metadata": {},
   "source": [
    "To connect it to various vectorstores, follow https://python.langchain.com/docs/how_to/self_query/ "
   ]
  }
 ],
 "metadata": {
  "kernelspec": {
   "display_name": "Python 3 (ipykernel)",
   "language": "python",
   "name": "python3"
  },
  "language_info": {
   "codemirror_mode": {
    "name": "ipython",
    "version": 3
   },
   "file_extension": ".py",
   "mimetype": "text/x-python",
   "name": "python",
   "nbconvert_exporter": "python",
   "pygments_lexer": "ipython3",
   "version": "3.12.5"
  }
 },
 "nbformat": 4,
 "nbformat_minor": 5
}
