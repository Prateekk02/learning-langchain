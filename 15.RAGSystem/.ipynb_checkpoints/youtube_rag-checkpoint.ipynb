{
 "cells": [
  {
   "cell_type": "markdown",
   "id": "764ca391-e12b-4314-80c2-b73af915bf7d",
   "metadata": {},
   "source": [
    "# Youtube RAG"
   ]
  },
  {
   "cell_type": "code",
   "execution_count": 1,
   "id": "b9215527-91d0-49dd-acab-8c2efe445569",
   "metadata": {},
   "outputs": [
    {
     "data": {
      "text/plain": [
       "True"
      ]
     },
     "execution_count": 1,
     "metadata": {},
     "output_type": "execute_result"
    }
   ],
   "source": [
    "from dotenv import load_dotenv\n",
    "load_dotenv()"
   ]
  },
  {
   "cell_type": "markdown",
   "id": "dadf52eb-bdd8-4fec-8951-1715c3ada4b1",
   "metadata": {},
   "source": [
    "## Installing Dependencies "
   ]
  },
  {
   "cell_type": "code",
   "execution_count": 2,
   "id": "3a86a35c-2cae-48a2-9c53-f6e0a74b6a5b",
   "metadata": {},
   "outputs": [],
   "source": [
    "!pip install -q youtube-transcript-api langchain-community langchain-openai faiss-cpu tiktoken python-dotenv"
   ]
  },
  {
   "cell_type": "markdown",
   "id": "275b31b5-c3c5-4b3a-90db-18e6e39cdea1",
   "metadata": {},
   "source": [
    "## Importing Libraries"
   ]
  },
  {
   "cell_type": "code",
   "execution_count": 26,
   "id": "c023f49e-57c8-424b-92c9-61e0b4b9b65e",
   "metadata": {},
   "outputs": [],
   "source": [
    "from youtube_transcript_api import YouTubeTranscriptApi, TranscriptsDisabled, NoTranscriptFound\n",
    "from langchain.text_splitter import RecursiveCharacterTextSplitter\n",
    "from langchain_openai import ChatOpenAI, OpenAIEmbeddings\n",
    "from langchain_community.vectorstores import FAISS\n",
    "from langchain_core.prompts import PromptTemplate\n",
    "from urllib.parse import urlparse, parse_qs"
   ]
  },
  {
   "cell_type": "markdown",
   "id": "25c9a8c2-c898-4bc8-b600-ebede13bc3fa",
   "metadata": {},
   "source": [
    "## Utility Functions "
   ]
  },
  {
   "cell_type": "code",
   "execution_count": 27,
   "id": "6ca712e8-f339-4ce4-836b-f0731eeed523",
   "metadata": {},
   "outputs": [],
   "source": [
    "# Url parser to get video_id \n",
    "def get_video_id(url):\n",
    "    \"\"\"\n",
    "    Extract video ID from various YouTube URL formats:\n",
    "    - https://www.youtube.com/watch?v=VIDEO_ID\n",
    "    - https://youtu.be/VIDEO_ID\n",
    "    - https://m.youtube.com/watch?v=VIDEO_ID\n",
    "    \"\"\"\n",
    "    # Handle youtu.be short URLs\n",
    "    if 'youtu.be/' in url:\n",
    "        return url.split('youtu.be/')[-1].split('?')[0]\n",
    "    \n",
    "    # Handle standard YouTube URLs\n",
    "    parsed_url = urlparse(url)\n",
    "    if parsed_url.hostname in ['www.youtube.com', 'youtube.com', 'm.youtube.com']:\n",
    "        query = parsed_url.query\n",
    "        video_id = parse_qs(query).get(\"v\", [None])[0]\n",
    "        return video_id\n",
    "    \n",
    "    # Try regex as fallback for embedded URLs or other formats\n",
    "    pattern = r'(?:youtube\\.com\\/(?:[^\\/]+\\/.+\\/|(?:v|e(?:mbed)?)\\/|.*[?&]v=)|youtu\\.be\\/)([^\"&?\\/\\s]{11})'\n",
    "    match = re.search(pattern, url)\n",
    "    return match.group(1) if match else None"
   ]
  },
  {
   "cell_type": "markdown",
   "id": "ba3aba34-1124-4ca2-b26f-87b534637237",
   "metadata": {},
   "source": [
    "## Steps"
   ]
  },
  {
   "cell_type": "markdown",
   "id": "b414f00b-421d-4e63-8906-1460b2d43609",
   "metadata": {},
   "source": [
    "### Indexing (Document Ingestion)"
   ]
  },
  {
   "cell_type": "code",
   "execution_count": 28,
   "id": "dd15161e-ed56-4b13-83da-ea3079b8af88",
   "metadata": {},
   "outputs": [],
   "source": [
    "def get_transcript(url):\n",
    "    video_id = get_video_id(url)\n",
    "    if !video_id: \n",
    "        return \"Cannot fetch video ID from the URL\"\n",
    "    print(video_id)\n",
    "    try:\n",
    "        transcript_list = YouTubeTranscriptApi.get_transcript(video_id=video_id, languages=['en'])\n",
    "\n",
    "        # Flatten into plain text\n",
    "        transcript = ' '.join(chunk['text'] for chunk in transcript_list)\n",
    "        return transcript\n",
    "    except TranscriptsDisabled:\n",
    "        return \"Caption disabled.\"\n",
    "    except NoTranscriptFound:\n",
    "        return \"No transcript found for this video.\"\n",
    "    except Exception as e: \n",
    "        return f\"Error: {str(e)}\""
   ]
  },
  {
   "cell_type": "code",
   "execution_count": 30,
   "id": "d3f4ae53-d256-4a20-9ad8-a00aed63721d",
   "metadata": {},
   "outputs": [
    {
     "name": "stdout",
     "output_type": "stream",
     "text": [
      "aircAruvnKk\n",
      "Error: no element found: line 1, column 0\n"
     ]
    }
   ],
   "source": [
    "transcript = get_transcript(\"https://www.youtube.com/watch?v=aircAruvnKk\")\n",
    "print(transcript)"
   ]
  },
  {
   "cell_type": "code",
   "execution_count": null,
   "id": "2a577fdc-953e-4ec1-99c0-df66dd52c116",
   "metadata": {},
   "outputs": [],
   "source": []
  },
  {
   "cell_type": "code",
   "execution_count": null,
   "id": "1efdd8a2-6790-48c2-a362-5a5d9c32c9f0",
   "metadata": {},
   "outputs": [],
   "source": []
  }
 ],
 "metadata": {
  "kernelspec": {
   "display_name": "Python 3 (ipykernel)",
   "language": "python",
   "name": "python3"
  },
  "language_info": {
   "codemirror_mode": {
    "name": "ipython",
    "version": 3
   },
   "file_extension": ".py",
   "mimetype": "text/x-python",
   "name": "python",
   "nbconvert_exporter": "python",
   "pygments_lexer": "ipython3",
   "version": "3.12.5"
  }
 },
 "nbformat": 4,
 "nbformat_minor": 5
}
