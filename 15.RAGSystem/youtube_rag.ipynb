{
 "cells": [
  {
   "cell_type": "markdown",
   "id": "764ca391-e12b-4314-80c2-b73af915bf7d",
   "metadata": {},
   "source": [
    "# Youtube RAG"
   ]
  },
  {
   "cell_type": "code",
   "execution_count": 1,
   "id": "b9215527-91d0-49dd-acab-8c2efe445569",
   "metadata": {},
   "outputs": [
    {
     "data": {
      "text/plain": [
       "True"
      ]
     },
     "execution_count": 1,
     "metadata": {},
     "output_type": "execute_result"
    }
   ],
   "source": [
    "from dotenv import load_dotenv\n",
    "load_dotenv()"
   ]
  },
  {
   "cell_type": "markdown",
   "id": "dadf52eb-bdd8-4fec-8951-1715c3ada4b1",
   "metadata": {},
   "source": [
    "## Installing Dependencies "
   ]
  },
  {
   "cell_type": "code",
   "execution_count": 2,
   "id": "3a86a35c-2cae-48a2-9c53-f6e0a74b6a5b",
   "metadata": {},
   "outputs": [],
   "source": [
    "!pip install -q youtube-transcript-api langchain-community langchain-openai faiss-cpu tiktoken python-dotenv"
   ]
  },
  {
   "cell_type": "markdown",
   "id": "275b31b5-c3c5-4b3a-90db-18e6e39cdea1",
   "metadata": {},
   "source": [
    "## Importing Libraries"
   ]
  },
  {
   "cell_type": "code",
   "execution_count": 26,
   "id": "c023f49e-57c8-424b-92c9-61e0b4b9b65e",
   "metadata": {},
   "outputs": [],
   "source": [
    "from youtube_transcript_api import YouTubeTranscriptApi, TranscriptsDisabled, NoTranscriptFound\n",
    "from langchain.text_splitter import RecursiveCharacterTextSplitter\n",
    "from langchain_openai import ChatOpenAI, OpenAIEmbeddings\n",
    "from langchain_community.vectorstores import FAISS\n",
    "from langchain_core.prompts import PromptTemplate\n",
    "from urllib.parse import urlparse, parse_qs"
   ]
  },
  {
   "cell_type": "markdown",
   "id": "25c9a8c2-c898-4bc8-b600-ebede13bc3fa",
   "metadata": {},
   "source": [
    "## Utility Functions "
   ]
  },
  {
   "cell_type": "code",
   "execution_count": 27,
   "id": "6ca712e8-f339-4ce4-836b-f0731eeed523",
   "metadata": {},
   "outputs": [],
   "source": [
    "# Url parser to get video_id \n",
    "def get_video_id(url):\n",
    "    \"\"\"\n",
    "    Extract video ID from various YouTube URL formats:\n",
    "    - https://www.youtube.com/watch?v=VIDEO_ID\n",
    "    - https://youtu.be/VIDEO_ID\n",
    "    - https://m.youtube.com/watch?v=VIDEO_ID\n",
    "    \"\"\"\n",
    "    # Handle youtu.be short URLs\n",
    "    if 'youtu.be/' in url:\n",
    "        return url.split('youtu.be/')[-1].split('?')[0]\n",
    "    \n",
    "    # Handle standard YouTube URLs\n",
    "    parsed_url = urlparse(url)\n",
    "    if parsed_url.hostname in ['www.youtube.com', 'youtube.com', 'm.youtube.com']:\n",
    "        query = parsed_url.query\n",
    "        video_id = parse_qs(query).get(\"v\", [None])[0]\n",
    "        return video_id\n",
    "    \n",
    "    # Try regex as fallback for embedded URLs or other formats\n",
    "    pattern = r'(?:youtube\\.com\\/(?:[^\\/]+\\/.+\\/|(?:v|e(?:mbed)?)\\/|.*[?&]v=)|youtu\\.be\\/)([^\"&?\\/\\s]{11})'\n",
    "    match = re.search(pattern, url)\n",
    "    return match.group(1) if match else None"
   ]
  },
  {
   "cell_type": "markdown",
   "id": "ba3aba34-1124-4ca2-b26f-87b534637237",
   "metadata": {},
   "source": [
    "## Steps"
   ]
  },
  {
   "cell_type": "markdown",
   "id": "b414f00b-421d-4e63-8906-1460b2d43609",
   "metadata": {},
   "source": [
    "### Indexing "
   ]
  },
  {
   "cell_type": "markdown",
   "id": "f748dd46-8f91-4cae-9833-c2bb3d16d881",
   "metadata": {},
   "source": [
    "#### Document Ingestion"
   ]
  },
  {
   "cell_type": "code",
   "execution_count": 51,
   "id": "dd15161e-ed56-4b13-83da-ea3079b8af88",
   "metadata": {},
   "outputs": [],
   "source": [
    "def get_transcript(url):\n",
    "    video_id = get_video_id(url)\n",
    "    if not video_id: \n",
    "        return \"Cannot fetch video ID from the URL\"\n",
    "    print(video_id)\n",
    "    try:\n",
    "        transcript_list = YouTubeTranscriptApi.get_transcript(video_id=video_id, languages=['en'])\n",
    "        \n",
    "        # Flatten into plain text\n",
    "        transcript = ' '.join(chunk['text'] for chunk in transcript_list)\n",
    "        return transcript\n",
    "    except TranscriptsDisabled:\n",
    "        return \"Caption disabled.\"\n",
    "    except NoTranscriptFound:\n",
    "        return \"No transcript found for this video.\"\n",
    "    "
   ]
  },
  {
   "cell_type": "code",
   "execution_count": 52,
   "id": "d3f4ae53-d256-4a20-9ad8-a00aed63721d",
   "metadata": {},
   "outputs": [
    {
     "name": "stdout",
     "output_type": "stream",
     "text": [
      "aircAruvnKk\n",
      "This is a 3. It's sloppily written and rendered at an extremely low resolution of 28x28 pixels, but your brain has no trouble recognizing it as a 3. And I want you to take a moment to appreciate how crazy it is that brains can do this so effortlessly. I mean, this, this and this are also recognizable as 3s, even though the specific values of each pixel is very different from one image to the next. The particular light-sensitive cells in your eye that are firing when you see this 3 are very different from the ones firing when you see this 3. But something in that crazy-smart visual cortex of yours resolves these as representing the same idea, while at the same time recognizing other images as their own distinct ideas. But if I told you, hey, sit down and write for me a program that takes in a grid of 28x28 pixels like this and outputs a single number between 0 and 10, telling you what it thinks the digit is, well the task goes from comically trivial to dauntingly difficult. Unless you've been living under a rock, I think I hardly need to motivate the relevance and importance of machine learning and neural networks to the present and to the future. But what I want to do here is show you what a neural network actually is, assuming no background, and to help visualize what it's doing, not as a buzzword but as a piece of math. My hope is that you come away feeling like the structure itself is motivated, and to feel like you know what it means when you read, or you hear about a neural network quote-unquote learning. This video is just going to be devoted to the structure component of that, and the following one is going to tackle learning. What we're going to do is put together a neural network that can learn to recognize handwritten digits. This is a somewhat classic example for introducing the topic, and I'm happy to stick with the status quo here, because at the end of the two videos I want to point you to a couple good resources where you can learn more, and where you can download the code that does this and play with it on your own computer. There are many many variants of neural networks, and in recent years there's been sort of a boom in research towards these variants, but in these two introductory videos you and I are just going to look at the simplest plain vanilla form with no added frills. This is kind of a necessary prerequisite for understanding any of the more powerful modern variants, and trust me it still has plenty of complexity for us to wrap our minds around. But even in this simplest form it can learn to recognize handwritten digits, which is a pretty cool thing for a computer to be able to do. And at the same time you'll see how it does fall short of a couple hopes that we might have for it. As the name suggests neural networks are inspired by the brain, but let's break that down. What are the neurons, and in what sense are they linked together? Right now when I say neuron all I want you to think about is a thing that holds a number, specifically a number between 0 and 1. It's really not more than that. For example the network starts with a bunch of neurons corresponding to each of the 28x28 pixels of the input image, which is 784 neurons in total. Each one of these holds a number that represents the grayscale value of the corresponding pixel, ranging from 0 for black pixels up to 1 for white pixels. This number inside the neuron is called its activation, and the image you might have in mind here is that each neuron is lit up when its activation is a high number. So all of these 784 neurons make up the first layer of our network. Now jumping over to the last layer, this has 10 neurons, each representing one of the digits. The activation in these neurons, again some number that's between 0 and 1, represents how much the system thinks that a given image corresponds with a given digit. There's also a couple layers in between called the hidden layers, which for the time being should just be a giant question mark for how on earth this process of recognizing digits is going to be handled. In this network I chose two hidden layers, each one with 16 neurons, and admittedly that's kind of an arbitrary choice. To be honest I chose two layers based on how I want to motivate the structure in just a moment, and 16, well that was just a nice number to fit on the screen. In practice there is a lot of room for experiment with a specific structure here. The way the network operates, activations in one layer determine the activations of the next layer. And of course the heart of the network as an information processing mechanism comes down to exactly how those activations from one layer bring about activations in the next layer. It's meant to be loosely analogous to how in biological networks of neurons, some groups of neurons firing cause certain others to fire. Now the network I'm showing here has already been trained to recognize digits, and let me show you what I mean by that. It means if you feed in an image, lighting up all 784 neurons of the input layer according to the brightness of each pixel in the image, that pattern of activations causes some very specific pattern in the next layer which causes some pattern in the one after it, which finally gives some pattern in the output layer. And the brightest neuron of that output layer is the network's choice, so to speak, for what digit this image represents. And before jumping into the math for how one layer influences the next, or how training works, let's just talk about why it's even reasonable to expect a layered structure like this to behave intelligently. What are we expecting here? What is the best hope for what those middle layers might be doing? Well, when you or I recognize digits, we piece together various components. A 9 has a loop up top and a line on the right. An 8 also has a loop up top, but it's paired with another loop down low. A 4 basically breaks down into three specific lines, and things like that. Now in a perfect world, we might hope that each neuron in the second to last layer corresponds with one of these subcomponents, that anytime you feed in an image with, say, a loop up top, like a 9 or an 8, there's some specific neuron whose activation is going to be close to 1. And I don't mean this specific loop of pixels, the hope would be that any generally loopy pattern towards the top sets off this neuron. That way, going from the third layer to the last one just requires learning which combination of subcomponents corresponds to which digits. Of course, that just kicks the problem down the road, because how would you recognize these subcomponents, or even learn what the right subcomponents should be? And I still haven't even talked about how one layer influences the next, but run with me on this one for a moment. Recognizing a loop can also break down into subproblems. One reasonable way to do this would be to first recognize the various little edges that make it up. Similarly, a long line, like the kind you might see in the digits 1 or 4 or 7, is really just a long edge, or maybe you think of it as a certain pattern of several smaller edges. So maybe our hope is that each neuron in the second layer of the network corresponds with the various relevant little edges. Maybe when an image like this one comes in, it lights up all of the neurons associated with around 8 to 10 specific little edges, which in turn lights up the neurons associated with the upper loop and a long vertical line, and those light up the neuron associated with a 9. Whether or not this is what our final network actually does is another question, one that I'll come back to once we see how to train the network, but this is a hope that we might have, a sort of goal with the layered structure like this. Moreover, you can imagine how being able to detect edges and patterns like this would be really useful for other image recognition tasks. And even beyond image recognition, there are all sorts of intelligent things you might want to do that break down into layers of abstraction. Parsing speech, for example, involves taking raw audio and picking out distinct sounds, which combine to make certain syllables, which combine to form words, which combine to make up phrases and more abstract thoughts, etc. But getting back to how any of this actually works, picture yourself right now designing how exactly the activations in one layer might determine the activations in the next. The goal is to have some mechanism that could conceivably combine pixels into edges, or edges into patterns, or patterns into digits. And to zoom in on one very specific example, let's say the hope is for one particular neuron in the second layer to pick up on whether or not the image has an edge in this region here. The question at hand is what parameters should the network have? What dials and knobs should you be able to tweak so that it's expressive enough to potentially capture this pattern, or any other pixel pattern, or the pattern that several edges can make a loop, and other such things? Well, what we'll do is assign a weight to each one of the connections between our neuron and the neurons from the first layer. These weights are just numbers. Then take all of those activations from the first layer and compute their weighted sum according to these weights. I find it helpful to think of these weights as being organized into a little grid of their own, and I'm going to use green pixels to indicate positive weights, and red pixels to indicate negative weights, where the brightness of that pixel is some loose depiction of the weight's value. Now if we made the weights associated with almost all of the pixels zero except for some positive weights in this region that we care about, then taking the weighted sum of all the pixel values really just amounts to adding up the values of the pixel just in the region that we care about. And if you really wanted to pick up on whether there's an edge here, what you might do is have some negative weights associated with the surrounding pixels. Then the sum is largest when those middle pixels are bright but the surrounding pixels are darker. When you compute a weighted sum like this, you might come out with any number, but for this network what we want is for activations to be some value between 0 and 1. So a common thing to do is to pump this weighted sum into some function that squishes the real number line into the range between 0 and 1. And a common function that does this is called the sigmoid function, also known as a logistic curve. Basically very negative inputs end up close to 0, positive inputs end up close to 1, and it just steadily increases around the input 0. So the activation of the neuron here is basically a measure of how positive the relevant weighted sum is. But maybe it's not that you want the neuron to light up when the weighted sum is bigger than 0. Maybe you only want it to be active when the sum is bigger than say 10. That is, you want some bias for it to be inactive. What we'll do then is just add in some other number like negative 10 to this weighted sum before plugging it through the sigmoid squishification function. That additional number is called the bias. So the weights tell you what pixel pattern this neuron in the second layer is picking up on, and the bias tells you how high the weighted sum needs to be before the neuron starts getting meaningfully active. And that is just one neuron. Every other neuron in this layer is going to be connected to all 784 pixel neurons from the first layer, and each one of those 784 connections has its own weight associated with it. Also, each one has some bias, some other number that you add on to the weighted sum before squishing it with the sigmoid. And that's a lot to think about! With this hidden layer of 16 neurons, that's a total of 784 times 16 weights, along with 16 biases. And all of that is just the connections from the first layer to the second. The connections between the other layers also have a bunch of weights and biases associated with them. All said and done, this network has almost exactly 13,000 total weights and biases. 13,000 knobs and dials that can be tweaked and turned to make this network behave in different ways. So when we talk about learning, what that's referring to is getting the computer to find a valid setting for all of these many many numbers so that it'll actually solve the problem at hand. One thought experiment that is at once fun and kind of horrifying is to imagine sitting down and setting all of these weights and biases by hand, purposefully tweaking the numbers so that the second layer picks up on edges, the third layer picks up on patterns, etc. I personally find this satisfying rather than just treating the network as a total black box, because when the network doesn't perform the way you anticipate, if you've built up a little bit of a relationship with what those weights and biases actually mean, you have a starting place for experimenting with how to change the structure to improve. Or when the network does work but not for the reasons you might expect, digging into what the weights and biases are doing is a good way to challenge your assumptions and really expose the full space of possible solutions. By the way, the actual function here is a little cumbersome to write down, don't you think? So let me show you a more notationally compact way that these connections are represented. This is how you'd see it if you choose to read up more about neural networks. Organize all of the activations from one layer into a column as a vector. Then organize all of the weights as a matrix, where each row of that matrix corresponds to the connections between one layer and a particular neuron in the next layer. What that means is that taking the weighted sum of the activations in the first layer according to these weights corresponds to one of the terms in the matrix vector product of everything we have on the left here. By the way, so much of machine learning just comes down to having a good grasp of linear algebra, so for any of you who want a nice visual understanding for matrices and what matrix vector multiplication means, take a look at the series I did on linear algebra, especially chapter 3. Back to our expression, instead of talking about adding the bias to each one of these values independently, we represent it by organizing all those biases into a vector, and adding the entire vector to the previous matrix vector product. Then as a final step, I'll wrap a sigmoid around the outside here, and what that's supposed to represent is that you're going to apply the sigmoid function to each specific component of the resulting vector inside. So once you write down this weight matrix and these vectors as their own symbols, you can communicate the full transition of activations from one layer to the next in an extremely tight and neat little expression, and this makes the relevant code both a lot simpler and a lot faster, since many libraries optimize the heck out of matrix multiplication. Remember how earlier I said these neurons are simply things that hold numbers? Well of course the specific numbers that they hold depends on the image you feed in, so it's actually more accurate to think of each neuron as a function, one that takes in the outputs of all the neurons in the previous layer and spits out a number between 0 and 1. Really the entire network is just a function, one that takes in 784 numbers as an input and spits out 10 numbers as an output. It's an absurdly complicated function, one that involves 13,000 parameters in the forms of these weights and biases that pick up on certain patterns, and which involves iterating many matrix vector products and the sigmoid squishification function, but it's just a function nonetheless. And in a way it's kind of reassuring that it looks complicated. I mean if it were any simpler, what hope would we have that it could take on the challenge of recognizing digits? And how does it take on that challenge? How does this network learn the appropriate weights and biases just by looking at data? Well that's what I'll show in the next video, and I'll also dig a little more into what this particular network we're seeing is really doing. Now is the point I suppose I should say subscribe to stay notified about when that video or any new videos come out, but realistically most of you don't actually receive notifications from YouTube, do you? Maybe more honestly I should say subscribe so that the neural networks that underlie YouTube's recommendation algorithm are primed to believe that you want to see content from this channel get recommended to you. Anyway, stay posted for more. Thank you very much to everyone supporting these videos on Patreon. I've been a little slow to progress in the probability series this summer, but I'm jumping back into it after this project, so patrons you can look out for updates there. To close things off here I have with me Lisha Li who did her PhD work on the theoretical side of deep learning and who currently works at a venture capital firm called Amplify Partners who kindly provided some of the funding for this video. So Lisha one thing I think we should quickly bring up is this sigmoid function. As I understand it early networks use this to squish the relevant weighted sum into that interval between zero and one, you know kind of motivated by this biological analogy of neurons either being inactive or active. Exactly.\n",
      "But relatively few modern networks actually use sigmoid anymore. Yeah.\n",
      "It's kind of old school right? Yeah or rather ReLU seems to be much easier to train. And ReLU, ReLU stands for rectified linear unit? Yes it's this kind of function where you're just taking a max of zero and a where a is given by what you were explaining in the video and what this was sort of motivated from I think was a partially by a biological analogy with how neurons would either be activated or not. And so if it passes a certain threshold it would be the identity function but if it did not then it would just not be activated so it'd be zero so it's kind of a simplification. Using sigmoids didn't help training or it was very difficult to train at some point and people just tried ReLU and it happened to work very well for these incredibly deep neural networks. All right thank you Lisha.\n"
     ]
    }
   ],
   "source": [
    "transcript = get_transcript(\"https://www.youtube.com/watch?v=aircAruvnKk\")\n",
    "print(transcript)"
   ]
  },
  {
   "cell_type": "markdown",
   "id": "bd5d7e3f-3f57-434c-b5e5-eeb46c179715",
   "metadata": {},
   "source": [
    "#### Text Splitting"
   ]
  },
  {
   "cell_type": "code",
   "execution_count": 54,
   "id": "03306540-35fd-4358-9362-05f8191de223",
   "metadata": {},
   "outputs": [],
   "source": [
    "splitter = RecursiveCharacterTextSplitter(chunk_size = 1000, chunk_overlap=200)\n",
    "chunks = splitter.create_documents([transcript])"
   ]
  },
  {
   "cell_type": "code",
   "execution_count": 55,
   "id": "681fc041-e27a-47ce-8133-bd0379da8c89",
   "metadata": {},
   "outputs": [
    {
     "name": "stdout",
     "output_type": "stream",
     "text": [
      "23\n"
     ]
    }
   ],
   "source": [
    "print(len(chunks))"
   ]
  },
  {
   "cell_type": "markdown",
   "id": "94f54ada-88d5-4c4c-8aba-014302604343",
   "metadata": {},
   "source": [
    "#### Embedding & Storage in Vector Store"
   ]
  },
  {
   "cell_type": "code",
   "execution_count": 56,
   "id": "d56614b0-2d2c-4341-a6f7-2f2703254605",
   "metadata": {},
   "outputs": [],
   "source": [
    "embeddings = OpenAIEmbeddings(model=\"text-embedding-3-small\")\n",
    "vector_store = FAISS.from_documents(chunks, embedding=embeddings)"
   ]
  },
  {
   "cell_type": "code",
   "execution_count": 57,
   "id": "08dece20-f891-47ce-81cd-8d7c52ccc2e1",
   "metadata": {},
   "outputs": [
    {
     "data": {
      "text/plain": [
       "{0: '9cfc5a3f-6542-436f-9e5b-e5e7de60731e',\n",
       " 1: '17a367f4-b0c8-4a31-aa50-8b55d47a8212',\n",
       " 2: '8d059dd9-f06a-48d3-b41a-9d077acab981',\n",
       " 3: '80e05153-2069-4b98-a04b-d591a870ce0f',\n",
       " 4: '607c6634-0486-4c26-a2fc-9047ca9895ad',\n",
       " 5: '86c1df05-de9b-4e58-abeb-8704e72d2bce',\n",
       " 6: '95a8f2ca-6281-473f-85ee-f71fd744c5f7',\n",
       " 7: '42104ab7-4fb7-4932-9623-4052ba43fcdc',\n",
       " 8: '4f070a1d-4c85-4878-88b9-182c3a377820',\n",
       " 9: '1b4eaefb-5f98-4ae0-ba6c-432ffc2d92a0',\n",
       " 10: '114eb6d9-44ff-4b6a-9136-2422cb6a80cf',\n",
       " 11: 'bb52b53e-c7fd-451a-8dc1-f97517df1fb4',\n",
       " 12: 'd3ed007b-1cc3-4cd6-a2c8-27bcd51f44a3',\n",
       " 13: '3f90c79c-3eeb-40f9-8885-08415c4d5cc4',\n",
       " 14: '622e6b38-fff2-4947-8e8f-67e62a51ac0f',\n",
       " 15: '91438ca7-d574-4216-9c34-a1e8b5885f2c',\n",
       " 16: 'e8920907-6047-4bfa-aaad-1698cc43df2d',\n",
       " 17: '09dfeac3-265d-42ab-9305-d5e64783e4dd',\n",
       " 18: '3f1185e4-e5e3-40be-8435-bc3604bf7d14',\n",
       " 19: '9da78654-81c0-49a2-9da3-fb031e164742',\n",
       " 20: '06be6d5b-f817-4c3d-9147-254f72422a01',\n",
       " 21: 'daab12ab-68f9-4f7d-bd9a-6da86a730db5',\n",
       " 22: '5f9bd6b7-e853-4ad0-affb-be101b27d6ba'}"
      ]
     },
     "execution_count": 57,
     "metadata": {},
     "output_type": "execute_result"
    }
   ],
   "source": [
    "vector_store.index_to_docstore_id"
   ]
  },
  {
   "cell_type": "markdown",
   "id": "3431292d-e821-4154-bc9c-114110769ea1",
   "metadata": {},
   "source": [
    "## Retriever"
   ]
  },
  {
   "cell_type": "code",
   "execution_count": 58,
   "id": "050025a9-461c-4db9-a044-3963ee688e2b",
   "metadata": {},
   "outputs": [],
   "source": [
    "retriever = vector_store.as_retriever(search_type='similarity', search_kwargs={\"k\":4})"
   ]
  },
  {
   "cell_type": "code",
   "execution_count": 59,
   "id": "416bf861-1bcd-4ba2-98c5-d6a7adddcd2f",
   "metadata": {},
   "outputs": [
    {
     "data": {
      "text/plain": [
       "[Document(id='daab12ab-68f9-4f7d-bd9a-6da86a730db5', metadata={}, page_content=\"videos on Patreon. I've been a little slow to progress in the probability series this summer, but I'm jumping back into it after this project, so patrons you can look out for updates there. To close things off here I have with me Lisha Li who did her PhD work on the theoretical side of deep learning and who currently works at a venture capital firm called Amplify Partners who kindly provided some of the funding for this video. So Lisha one thing I think we should quickly bring up is this sigmoid function. As I understand it early networks use this to squish the relevant weighted sum into that interval between zero and one, you know kind of motivated by this biological analogy of neurons either being inactive or active. Exactly.\"),\n",
       " Document(id='80e05153-2069-4b98-a04b-d591a870ce0f', metadata={}, page_content=\"the more powerful modern variants, and trust me it still has plenty of complexity for us to wrap our minds around. But even in this simplest form it can learn to recognize handwritten digits, which is a pretty cool thing for a computer to be able to do. And at the same time you'll see how it does fall short of a couple hopes that we might have for it. As the name suggests neural networks are inspired by the brain, but let's break that down. What are the neurons, and in what sense are they linked together? Right now when I say neuron all I want you to think about is a thing that holds a number, specifically a number between 0 and 1. It's really not more than that. For example the network starts with a bunch of neurons corresponding to each of the 28x28 pixels of the input image, which is 784 neurons in total. Each one of these holds a number that represents the grayscale value of the corresponding pixel, ranging from 0 for black pixels up to 1 for white pixels. This number inside the\"),\n",
       " Document(id='91438ca7-d574-4216-9c34-a1e8b5885f2c', metadata={}, page_content=\"the other layers also have a bunch of weights and biases associated with them. All said and done, this network has almost exactly 13,000 total weights and biases. 13,000 knobs and dials that can be tweaked and turned to make this network behave in different ways. So when we talk about learning, what that's referring to is getting the computer to find a valid setting for all of these many many numbers so that it'll actually solve the problem at hand. One thought experiment that is at once fun and kind of horrifying is to imagine sitting down and setting all of these weights and biases by hand, purposefully tweaking the numbers so that the second layer picks up on edges, the third layer picks up on patterns, etc. I personally find this satisfying rather than just treating the network as a total black box, because when the network doesn't perform the way you anticipate, if you've built up a little bit of a relationship with what those weights and biases actually mean, you have a starting\"),\n",
       " Document(id='17a367f4-b0c8-4a31-aa50-8b55d47a8212', metadata={}, page_content=\"in a grid of 28x28 pixels like this and outputs a single number between 0 and 10, telling you what it thinks the digit is, well the task goes from comically trivial to dauntingly difficult. Unless you've been living under a rock, I think I hardly need to motivate the relevance and importance of machine learning and neural networks to the present and to the future. But what I want to do here is show you what a neural network actually is, assuming no background, and to help visualize what it's doing, not as a buzzword but as a piece of math. My hope is that you come away feeling like the structure itself is motivated, and to feel like you know what it means when you read, or you hear about a neural network quote-unquote learning. This video is just going to be devoted to the structure component of that, and the following one is going to tackle learning. What we're going to do is put together a neural network that can learn to recognize handwritten digits. This is a somewhat classic\")]"
      ]
     },
     "execution_count": 59,
     "metadata": {},
     "output_type": "execute_result"
    }
   ],
   "source": [
    "retriever.invoke(\"What is deepmind?\")"
   ]
  },
  {
   "cell_type": "markdown",
   "id": "b4264622-9b8e-4773-a39a-e554e7e77620",
   "metadata": {},
   "source": [
    "## Augmentation"
   ]
  },
  {
   "cell_type": "code",
   "execution_count": 63,
   "id": "73f1e00d-afe2-41a5-9c8a-61e77e605cb9",
   "metadata": {},
   "outputs": [],
   "source": [
    "llm = ChatOpenAI(model=\"gpt-4o-mini\", temperature=0.2)"
   ]
  },
  {
   "cell_type": "code",
   "execution_count": 64,
   "id": "4f5e6770-7541-403d-9a6b-a42c40fb2c09",
   "metadata": {},
   "outputs": [],
   "source": [
    "prompt = PromptTemplate(\n",
    "    template=\"\"\"\n",
    "        You are a helpful assistant.\n",
    "        Answer ONLY from the provided transcript context.\n",
    "        If the context is insufficient, just say I don't know.\n",
    "\n",
    "        {context}\n",
    "        Question: {question}\n",
    "    \"\"\",\n",
    "    input_variables = ['context', 'question']\n",
    ")"
   ]
  },
  {
   "cell_type": "code",
   "execution_count": 65,
   "id": "2d88c5ef-5e68-473b-91a1-078c8505c0d1",
   "metadata": {},
   "outputs": [],
   "source": [
    "question = \"Is topics of Mars discussed in the video? If yes then what is discussed\"\n",
    "retriever_docs = retriever.invoke(question) "
   ]
  },
  {
   "cell_type": "code",
   "execution_count": 66,
   "id": "121af44c-8c22-4d33-9d77-514ee0051504",
   "metadata": {},
   "outputs": [],
   "source": [
    "context_text = \"\\n\\n\".join(doc.page_content for doc in retriever_docs)"
   ]
  },
  {
   "cell_type": "code",
   "execution_count": 68,
   "id": "3ab36462-c4be-40d2-b1aa-99fe9e247c5b",
   "metadata": {},
   "outputs": [],
   "source": [
    "final_prompt = prompt.invoke({'context': context_text, 'question': question})"
   ]
  },
  {
   "cell_type": "markdown",
   "id": "a5d4abf6-b5d0-4097-a062-c39c219c78ca",
   "metadata": {},
   "source": [
    "## Generate"
   ]
  },
  {
   "cell_type": "code",
   "execution_count": 70,
   "id": "b08d61fc-35c2-4d64-a603-a4b2ed8b8271",
   "metadata": {},
   "outputs": [
    {
     "name": "stdout",
     "output_type": "stream",
     "text": [
      "I don't know.\n"
     ]
    }
   ],
   "source": [
    "answer = llm.invoke(final_prompt)\n",
    "print(answer.content)"
   ]
  },
  {
   "cell_type": "markdown",
   "id": "9903f0cc-0330-4e35-865d-d60366380276",
   "metadata": {},
   "source": [
    "# Building a Chain "
   ]
  },
  {
   "cell_type": "markdown",
   "id": "98123bc0-caf2-4c19-bbcc-782d0dd24919",
   "metadata": {},
   "source": [
    "![Local Image](../static/images/youtube_rag_chain_architecture.png)"
   ]
  },
  {
   "cell_type": "code",
   "execution_count": 71,
   "id": "7ffbe8a2-e430-487a-a0db-a73032a975b5",
   "metadata": {},
   "outputs": [],
   "source": [
    "from langchain_core.runnables import RunnableParallel, RunnablePassthrough, RunnableLambda\n",
    "from langchain_core.output_parsers import StrOutputParser"
   ]
  },
  {
   "cell_type": "code",
   "execution_count": 72,
   "id": "21b827b0-28ab-4113-aff5-cd7b165e8e66",
   "metadata": {},
   "outputs": [],
   "source": [
    "def format_docs(retrieve_docs):\n",
    "    context_text = \"\\n\\n\".join(doc.page_content for doc in retriever_docs) \n",
    "    return context_text"
   ]
  },
  {
   "cell_type": "code",
   "execution_count": 75,
   "id": "55f8d6c7-e2b9-4045-9f2b-cf71df28426d",
   "metadata": {},
   "outputs": [],
   "source": [
    "parser = StrOutputParser() "
   ]
  },
  {
   "cell_type": "code",
   "execution_count": 73,
   "id": "5d5e44ad-006e-49a2-aafb-b371284ae0ef",
   "metadata": {},
   "outputs": [],
   "source": [
    "parallel_chain = RunnableParallel({\n",
    "    'context': retriever | RunnableLambda(format_docs), \n",
    "    'question': RunnablePassthrough()\n",
    "})"
   ]
  },
  {
   "cell_type": "code",
   "execution_count": 74,
   "id": "7a521484-90fa-4f28-8021-68123a16eca4",
   "metadata": {},
   "outputs": [
    {
     "data": {
      "text/plain": [
       "{'context': \"videos on Patreon. I've been a little slow to progress in the probability series this summer, but I'm jumping back into it after this project, so patrons you can look out for updates there. To close things off here I have with me Lisha Li who did her PhD work on the theoretical side of deep learning and who currently works at a venture capital firm called Amplify Partners who kindly provided some of the funding for this video. So Lisha one thing I think we should quickly bring up is this sigmoid function. As I understand it early networks use this to squish the relevant weighted sum into that interval between zero and one, you know kind of motivated by this biological analogy of neurons either being inactive or active. Exactly.\\n\\nchallenge of recognizing digits? And how does it take on that challenge? How does this network learn the appropriate weights and biases just by looking at data? Well that's what I'll show in the next video, and I'll also dig a little more into what this particular network we're seeing is really doing. Now is the point I suppose I should say subscribe to stay notified about when that video or any new videos come out, but realistically most of you don't actually receive notifications from YouTube, do you? Maybe more honestly I should say subscribe so that the neural networks that underlie YouTube's recommendation algorithm are primed to believe that you want to see content from this channel get recommended to you. Anyway, stay posted for more. Thank you very much to everyone supporting these videos on Patreon. I've been a little slow to progress in the probability series this summer, but I'm jumping back into it after this project, so patrons you can look out for updates there. To close\\n\\nof that, and the following one is going to tackle learning. What we're going to do is put together a neural network that can learn to recognize handwritten digits. This is a somewhat classic example for introducing the topic, and I'm happy to stick with the status quo here, because at the end of the two videos I want to point you to a couple good resources where you can learn more, and where you can download the code that does this and play with it on your own computer. There are many many variants of neural networks, and in recent years there's been sort of a boom in research towards these variants, but in these two introductory videos you and I are just going to look at the simplest plain vanilla form with no added frills. This is kind of a necessary prerequisite for understanding any of the more powerful modern variants, and trust me it still has plenty of complexity for us to wrap our minds around. But even in this simplest form it can learn to recognize handwritten digits, which\\n\\nin a grid of 28x28 pixels like this and outputs a single number between 0 and 10, telling you what it thinks the digit is, well the task goes from comically trivial to dauntingly difficult. Unless you've been living under a rock, I think I hardly need to motivate the relevance and importance of machine learning and neural networks to the present and to the future. But what I want to do here is show you what a neural network actually is, assuming no background, and to help visualize what it's doing, not as a buzzword but as a piece of math. My hope is that you come away feeling like the structure itself is motivated, and to feel like you know what it means when you read, or you hear about a neural network quote-unquote learning. This video is just going to be devoted to the structure component of that, and the following one is going to tackle learning. What we're going to do is put together a neural network that can learn to recognize handwritten digits. This is a somewhat classic\",\n",
       " 'question': 'Who is Neural Network?'}"
      ]
     },
     "execution_count": 74,
     "metadata": {},
     "output_type": "execute_result"
    }
   ],
   "source": [
    "parallel_chain.invoke(\"Who is Neural Network?\")"
   ]
  },
  {
   "cell_type": "code",
   "execution_count": 76,
   "id": "fc7d2b76-59a2-4432-bed2-cab96f2eb974",
   "metadata": {},
   "outputs": [],
   "source": [
    "main_chain = parallel_chain | prompt | llm | parser "
   ]
  },
  {
   "cell_type": "code",
   "execution_count": 77,
   "id": "a8677341-aa4e-45e6-b353-c322d0318167",
   "metadata": {},
   "outputs": [
    {
     "data": {
      "text/plain": [
       "'The video introduces the concept of neural networks, specifically focusing on their structure and how they can learn to recognize handwritten digits. It features Lisha Li, who has a background in deep learning and works at a venture capital firm. The video discusses the sigmoid function used in early networks to map outputs between zero and one, drawing an analogy to biological neurons. The presenter plans to explain how a neural network learns appropriate weights and biases from data in the next video. The aim is to provide a foundational understanding of neural networks, preparing viewers for more complex variants in the future. The video also mentions resources for further learning and encourages viewers to subscribe for updates.'"
      ]
     },
     "execution_count": 77,
     "metadata": {},
     "output_type": "execute_result"
    }
   ],
   "source": [
    "main_chain.invoke(\"Can you summerize this video?\")"
   ]
  },
  {
   "cell_type": "code",
   "execution_count": null,
   "id": "3787beb0-b339-4ebf-8806-bf9885048258",
   "metadata": {},
   "outputs": [],
   "source": []
  }
 ],
 "metadata": {
  "kernelspec": {
   "display_name": "Python 3 (ipykernel)",
   "language": "python",
   "name": "python3"
  },
  "language_info": {
   "codemirror_mode": {
    "name": "ipython",
    "version": 3
   },
   "file_extension": ".py",
   "mimetype": "text/x-python",
   "name": "python",
   "nbconvert_exporter": "python",
   "pygments_lexer": "ipython3",
   "version": "3.12.5"
  }
 },
 "nbformat": 4,
 "nbformat_minor": 5
}
