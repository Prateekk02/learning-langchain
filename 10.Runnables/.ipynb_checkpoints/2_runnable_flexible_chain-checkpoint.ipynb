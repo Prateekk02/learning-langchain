{
 "cells": [
  {
   "cell_type": "markdown",
   "id": "8e2497ed-1cdc-4b9d-981b-05de84d464b7",
   "metadata": {},
   "source": [
    "# Runnable"
   ]
  },
  {
   "cell_type": "code",
   "execution_count": 3,
   "id": "57770bbf-050d-44e6-b5d2-800f81ede6a3",
   "metadata": {},
   "outputs": [],
   "source": [
    "from abc import ABC, abstractmethod\n",
    "\n",
    "class Runnable(ABC):\n",
    "\n",
    "    @abstractmethod\n",
    "    def invoke(input_data):\n",
    "        pass"
   ]
  },
  {
   "cell_type": "code",
   "execution_count": 8,
   "id": "a7011a19-9e17-4deb-827c-146461a3a031",
   "metadata": {},
   "outputs": [],
   "source": [
    "import random\n",
    "class DummyLLM(Runnable):\n",
    "     def __init__(self):\n",
    "         print(\"LLM Object created.\")\n",
    "\n",
    "     def invoke(self, prompt):\n",
    "         response_list = [\n",
    "             'Anakin didn\\'t had high ground.',\n",
    "             'Obi-Wan cheated',\n",
    "             'Tragedy of Darth Plagueis The wise'\n",
    "         ]\n",
    "         return  {'response': random.choice(response_list)}\n",
    "\n",
    "     def predict(self, prompt):\n",
    "         response_list = [\n",
    "             'Anakin didn\\'t had high ground.',\n",
    "             'Obi-Wan cheated',\n",
    "             'Tragedy of Darth Plagueis The wise'\n",
    "         ]\n",
    "\n",
    "         return  {'response': random.choice(response_list), 'warning': 'This method is going to be deprecated.'}\n",
    "\n",
    "class DummyPromptTemplate:\n",
    "    def __init__(self, input_variable, template):\n",
    "        self.input_variable = input_variable\n",
    "        self.template = template\n",
    "\n",
    "    def format(self, input_dict):\n",
    "        return self.template.format(**input_dict)"
   ]
  },
  {
   "cell_type": "code",
   "execution_count": 14,
   "id": "6677aa24-ad51-41f9-8b37-6f7a14916598",
   "metadata": {},
   "outputs": [
    {
     "name": "stdout",
     "output_type": "stream",
     "text": [
      "LLM Object created.\n",
      "{'response': 'Tragedy of Darth Plagueis The wise'}\n",
      "{'response': \"Anakin didn't had high ground.\", 'warning': 'This method is going to be deprecated.'}\n"
     ]
    }
   ],
   "source": [
    "llm = DummyLLM()\n",
    "print(llm.invoke(\"What is capital of Corosaunt?\"))\n",
    "print(llm.predict(\"What is capital of Tatoinne\"))"
   ]
  },
  {
   "cell_type": "code",
   "execution_count": null,
   "id": "5310175a-c98e-46af-925c-f9cc19ea267c",
   "metadata": {},
   "outputs": [],
   "source": []
  }
 ],
 "metadata": {
  "kernelspec": {
   "display_name": "Python 3 (ipykernel)",
   "language": "python",
   "name": "python3"
  },
  "language_info": {
   "codemirror_mode": {
    "name": "ipython",
    "version": 3
   },
   "file_extension": ".py",
   "mimetype": "text/x-python",
   "name": "python",
   "nbconvert_exporter": "python",
   "pygments_lexer": "ipython3",
   "version": "3.12.5"
  }
 },
 "nbformat": 4,
 "nbformat_minor": 5
}
