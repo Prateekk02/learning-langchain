{
 "cells": [
  {
   "cell_type": "markdown",
   "id": "2c308fd3-c78d-46cf-8154-aad95e05268a",
   "metadata": {},
   "source": [
    "# Runnables"
   ]
  },
  {
   "cell_type": "markdown",
   "id": "9ebbdb50-7dd9-4a8d-bdfe-9dc643949fc2",
   "metadata": {},
   "source": [
    "## Dummy LLM class"
   ]
  },
  {
   "cell_type": "code",
   "execution_count": 23,
   "id": "66990e04-085c-4847-b4ac-a43ebe7d8366",
   "metadata": {},
   "outputs": [],
   "source": [
    "import random\n",
    "class DummyLLM:\n",
    "     def __init__(self):\n",
    "         print(\"LLM Object created.\")\n",
    "\n",
    "     def predict(self, prompt):\n",
    "         response_list = [\n",
    "             'Anakin didn\\'t had high ground.',\n",
    "             'Obi-Wan cheated',\n",
    "             'Tragedy of Darth Plagueis The wise'\n",
    "         ]\n",
    "\n",
    "         return  {'response': random.choice(response_list)}"
   ]
  },
  {
   "cell_type": "code",
   "execution_count": 24,
   "id": "c20716c4-ac0a-4f08-a312-3d90bb6aff87",
   "metadata": {},
   "outputs": [
    {
     "name": "stdout",
     "output_type": "stream",
     "text": [
      "LLM Object created.\n"
     ]
    }
   ],
   "source": [
    "llm = DummyLLM()"
   ]
  },
  {
   "cell_type": "code",
   "execution_count": 25,
   "id": "4569cc41-4751-4f17-b48d-0aaf567d0a4b",
   "metadata": {},
   "outputs": [
    {
     "data": {
      "text/plain": [
       "{'response': 'Tragedy of Darth Plagueis The wise'}"
      ]
     },
     "execution_count": 25,
     "metadata": {},
     "output_type": "execute_result"
    }
   ],
   "source": [
    "llm.predict(\"Anakin\")"
   ]
  },
  {
   "cell_type": "markdown",
   "id": "de5ab73e-9e83-44bf-bd42-5a18aa169487",
   "metadata": {},
   "source": [
    "## Dummy Prompt Template"
   ]
  },
  {
   "cell_type": "code",
   "execution_count": 26,
   "id": "1f9a3b59-6e80-44cd-9879-39149fa24d04",
   "metadata": {},
   "outputs": [],
   "source": [
    "class DummyPromptTemplate:\n",
    "    def __init__(self, input_variable, template):\n",
    "        self.input_variable = input_variable\n",
    "        self.template = template\n",
    "\n",
    "    def format(self, input_dict):\n",
    "        return self.template.format(**input_dict)"
   ]
  },
  {
   "cell_type": "code",
   "execution_count": 27,
   "id": "3b068107-c82c-4f8b-8581-3bfc2676f4a2",
   "metadata": {},
   "outputs": [],
   "source": [
    "DummyPromptTemplate(\n",
    "    template=\"Write a poem about {topic}\",\n",
    "    input_variable=['topic']\n",
    ")\n",
    "\n",
    "prompt = template.format({\"topic\": \"Anakin\"})"
   ]
  },
  {
   "cell_type": "code",
   "execution_count": 28,
   "id": "5e03eab8-f347-4d24-ac62-fef4ac1b79bb",
   "metadata": {},
   "outputs": [
    {
     "data": {
      "text/plain": [
       "{'response': 'Tragedy of Darth Plagueis The wise'}"
      ]
     },
     "execution_count": 28,
     "metadata": {},
     "output_type": "execute_result"
    }
   ],
   "source": [
    "llm.predict(prompt)"
   ]
  },
  {
   "cell_type": "markdown",
   "id": "3eff52aa-809e-4581-bdb7-e6839a0065c3",
   "metadata": {},
   "source": [
    "## Dummy Chain"
   ]
  },
  {
   "cell_type": "code",
   "execution_count": 29,
   "id": "9626ba53-8c36-4af7-a34c-3e54ba2a0990",
   "metadata": {},
   "outputs": [],
   "source": [
    "class DummyChain:\n",
    "\n",
    "    def __init__(self, llm, prompt):\n",
    "        self.llm = llm\n",
    "        self.prompt = prompt\n",
    "\n",
    "    def run(self, input_dict):\n",
    "        final_prompt = self.prompt.format(prompt)\n",
    "        result = self.llm.predict(final_prompt)\n",
    "\n",
    "        return result['response']"
   ]
  },
  {
   "cell_type": "code",
   "execution_count": 31,
   "id": "bd7f4362-9d92-4e56-a27c-3cbddc2c7965",
   "metadata": {},
   "outputs": [
    {
     "name": "stdout",
     "output_type": "stream",
     "text": [
      "Anakin didn't had high ground.\n"
     ]
    }
   ],
   "source": [
    "chain = DummyChain(llm, prompt)\n",
    "\n",
    "result = chain.run({\"topic\": \"Anakin\"})\n",
    "print(result)"
   ]
  },
  {
   "cell_type": "code",
   "execution_count": null,
   "id": "0e3c5d69-60a9-4658-bf5c-37ef0b507f23",
   "metadata": {},
   "outputs": [],
   "source": []
  }
 ],
 "metadata": {
  "kernelspec": {
   "display_name": "Python 3 (ipykernel)",
   "language": "python",
   "name": "python3"
  },
  "language_info": {
   "codemirror_mode": {
    "name": "ipython",
    "version": 3
   },
   "file_extension": ".py",
   "mimetype": "text/x-python",
   "name": "python",
   "nbconvert_exporter": "python",
   "pygments_lexer": "ipython3",
   "version": "3.12.5"
  }
 },
 "nbformat": 4,
 "nbformat_minor": 5
}
