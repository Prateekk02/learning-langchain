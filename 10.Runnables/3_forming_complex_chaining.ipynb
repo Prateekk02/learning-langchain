{
 "cells": [
  {
   "cell_type": "markdown",
   "id": "a84be7aa-792b-462e-8f2a-48fc0b6ed854",
   "metadata": {},
   "source": [
    "# Complex Chaining"
   ]
  },
  {
   "cell_type": "code",
   "execution_count": 1,
   "id": "684ac578-c005-48ba-a246-09b83fdc042d",
   "metadata": {},
   "outputs": [],
   "source": [
    "from abc import ABC, abstractmethod\n",
    "\n",
    "class Runnable(ABC):\n",
    "    @abstractmethod\n",
    "    def invoke(input_data):\n",
    "        pass"
   ]
  },
  {
   "cell_type": "code",
   "execution_count": 5,
   "id": "681cb692-8d61-4b9b-b9c0-d4c856603a7f",
   "metadata": {},
   "outputs": [],
   "source": [
    "import random\n",
    "class DummyLLM(Runnable):\n",
    "     def __init__(self):\n",
    "         print(\"LLM Object created.\")\n",
    "\n",
    "     def invoke(self, prompt):\n",
    "         response_list = [\n",
    "             'Anakin didn\\'t had high ground.',\n",
    "             'Obi-Wan cheated',\n",
    "             'Tragedy of Darth Plagueis The wise'\n",
    "         ]\n",
    "         return  {'response': random.choice(response_list)}     \n",
    "\n",
    "class DummyPromptTemplate(Runnable):\n",
    "    def __init__(self, input_variable, template):\n",
    "        self.input_variable = input_variable\n",
    "        self.template = template\n",
    "\n",
    "    def invoke(self, input_dict):\n",
    "        return self.template.format(**input_dict)\n",
    " \n",
    "\n",
    "class DummyStrOutputParser(Runnable):\n",
    "    def __init__(self):\n",
    "        pass    \n",
    "\n",
    "    def invoke(self, input_dict):\n",
    "        return input_dict['response']\n",
    "\n",
    "class RunnableConnector(Runnable):\n",
    "    def __init__(self, runnable_list):\n",
    "        self.runnable_list = runnable_list\n",
    "\n",
    "    def invoke(self, input_data):\n",
    "        for runnable in self.runnable_list:\n",
    "            input_data = runnable.invoke(input_data)\n",
    "\n",
    "        return input_data\n",
    "        "
   ]
  },
  {
   "cell_type": "code",
   "execution_count": 6,
   "id": "27c9eadd-5131-48d6-ae9c-a107f8c683c3",
   "metadata": {},
   "outputs": [
    {
     "name": "stdout",
     "output_type": "stream",
     "text": [
      "LLM Object created.\n"
     ]
    }
   ],
   "source": [
    "template1 = DummyPromptTemplate(\n",
    "    template='Write a joke on {topic}',\n",
    "    input_variable=['topic']\n",
    ")\n",
    "\n",
    "template2 = DummyPromptTemplate(\n",
    "    template= \"Explain the following joke {response}\",\n",
    "    input_variable=['response']\n",
    ")\n",
    "\n",
    "parser = DummyStrOutputParser()\n",
    "\n",
    "llm = DummyLLM()"
   ]
  },
  {
   "cell_type": "code",
   "execution_count": 10,
   "id": "ec2825e9-1546-4866-9c28-f99b97d0cd65",
   "metadata": {},
   "outputs": [
    {
     "data": {
      "text/plain": [
       "\"Anakin didn't had high ground.\""
      ]
     },
     "execution_count": 10,
     "metadata": {},
     "output_type": "execute_result"
    }
   ],
   "source": [
    "chain1 = RunnableConnector([template1, llm])\n",
    "chain2 = RunnableConnector([template2, llm, parser])\n",
    "\n",
    "final_chain = RunnableConnector([chain1, chain2])\n",
    "\n",
    "final_chain.invoke({\"topic\": \"Anakin\"})"
   ]
  },
  {
   "cell_type": "code",
   "execution_count": null,
   "id": "249491a4-176e-445e-a872-2fcf00a70212",
   "metadata": {},
   "outputs": [],
   "source": []
  }
 ],
 "metadata": {
  "kernelspec": {
   "display_name": "Python 3 (ipykernel)",
   "language": "python",
   "name": "python3"
  },
  "language_info": {
   "codemirror_mode": {
    "name": "ipython",
    "version": 3
   },
   "file_extension": ".py",
   "mimetype": "text/x-python",
   "name": "python",
   "nbconvert_exporter": "python",
   "pygments_lexer": "ipython3",
   "version": "3.12.5"
  }
 },
 "nbformat": 4,
 "nbformat_minor": 5
}
