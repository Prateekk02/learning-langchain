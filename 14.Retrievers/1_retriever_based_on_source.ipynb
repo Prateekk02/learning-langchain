{
 "cells": [
  {
   "cell_type": "markdown",
   "id": "128c6c86-e172-41dd-b5a8-5a01f0aa15ef",
   "metadata": {},
   "source": [
    "# Based On Source "
   ]
  },
  {
   "cell_type": "markdown",
   "id": "c0b366d5-d62a-4d1a-92b4-7b5a6e9b6511",
   "metadata": {},
   "source": [
    "## Wikipedia Retriever"
   ]
  },
  {
   "cell_type": "code",
   "execution_count": null,
   "id": "14d03cd2-a46f-4b55-8b92-4a11773dd542",
   "metadata": {},
   "outputs": [],
   "source": [
    "# !pip install faiss-cpu wikipedia"
   ]
  },
  {
   "cell_type": "code",
   "execution_count": 7,
   "id": "c788b566-ae2d-4ece-95dc-4c5f36f358b8",
   "metadata": {},
   "outputs": [],
   "source": [
    "from langchain_community.retrievers import WikipediaRetriever"
   ]
  },
  {
   "cell_type": "code",
   "execution_count": 8,
   "id": "d340bbd0-a177-4466-92f9-8d380e9c6d8c",
   "metadata": {},
   "outputs": [],
   "source": [
    "retriever = WikipediaRetriever(top_k_results=2, lang='en') "
   ]
  },
  {
   "cell_type": "code",
   "execution_count": 18,
   "id": "c194353e-843e-4108-9d78-89b2b5b35abb",
   "metadata": {},
   "outputs": [],
   "source": [
    "# Define a query\n",
    "query = 'Anakin and Darth Vader?'\n",
    "\n",
    "# Get query result from the wikipedia \n",
    "docs = retriever.invoke(query)"
   ]
  },
  {
   "cell_type": "code",
   "execution_count": 19,
   "id": "06e6412b-fa37-4453-9715-ff781a377ed1",
   "metadata": {},
   "outputs": [
    {
     "name": "stdout",
     "output_type": "stream",
     "text": [
      "\n",
      "---Result 1 ------\n",
      "\n",
      "Darth Vader () is a fictional character in the Star Wars franchise. He was first introduced in the original film trilogy as the primary antagonist and one of the leaders of the Galactic Empire. He has become one of the most iconic villains of cinema.\n",
      "The prequel trilogy chronicles Vader's childhood as a precocious human slave named Anakin Skywalker, liberation by the Jedi Order, and young adulthood as a morally conflicted Jedi Knight, under the mentorship of Obi-Wan Kenobi. Skywalker is secretly lured into the Sith warrior cult by the Galactic Republic politician Palpatine. When Palpatine seizes control of the galaxy as its Emperor, Skywalker abandons the Jedi Order and, during a duel with Kenobi, is severely mutilated and thereafter transformed into a cyborg whom Palpatine rebrands as the Sith lord Darth Vader. He serves the Emperor for over two decades, hunting down the remaining Jedi, including Kenobi, and attempting to crush the rebels who oppose the new Empire. Finally, when Palpatine tries to kill Vader's son Luke, the Sith lord turns against his master, leading to the mutual destruction of Palpatine and Vader, which effectively brings the Empire to its end.\n",
      "In secret, Vader is the husband of Padmé Amidala, the father of Luke Skywalker and his twin sister Leia Organa, and the grandfather of Ben Solo (later known as Kylo Ren).\n",
      "David Prowse physically portrays Vader in the original trilogy, while James Earl Jones provides his voice in all of the films and some television series. Sebastian Shaw portrays Anakin in Return of the Jedi (1983), while Jake Lloyd and Hayden Christensen portray Anakin in the prequel trilogy, with Christensen reprising the role in the series Obi-Wan Kenobi (2022) and Ahsoka (2023). In the standalone film Rogue One (2016), Vader is portrayed by Spencer Wilding and Daniel Naprous. The character also appears in novels, comics, and video games.\n",
      "\n",
      "\n",
      "== Creation and development ==\n",
      "\n",
      "\n",
      "=== Darth Vader ===\n",
      "As part of the development for the original Star Wars film, George Lucas hired the artist Ralph McQuarrie to create conceptual images for the characters. For Vader, Lucas asked McQuarrie to depict a \"very tall, dark fluttering figure that had a spooky feeling like it came in on the wind.\" Because the script described Vader traveling between spaceships, McQuarrie suggested that he should wear a space suit. Lucas agreed, and McQuarrie created Vader's iconic mask by combining a full-face breathing mask with a samurai helmet. A 1975 production painting by McQuarrie depicts Vader engaged in a lightsaber duel with Deak Starkiller, who later became Luke Skywalker. Vader is shown wearing black armor, a flowing cape and a skull-like mask and helmet. This early design was similar to Vader's final appearance. \n",
      "Working from McQuarrie's concepts, the costume designer John Mollo devised an outfit that combined clerical robes, a motorcycle suit, a German military helmet, and a military gas mask. The prop sculptor Brian Muir created the helmet and armor. The sound of Vader's breathing was created by the film's sound designer, Ben Burtt, using modified recordings of a scuba breathing apparatus. The sound effect is trademarked at the U.S. Patent and Trademark Office. \n",
      "Lucas has provided differing accounts of how the name \"Darth Vader\" originated. On another occasion, he said it was inspired by the phrase \"Dark Water\". It is also possible that \"Darth Vader\" originated from the name of Gary Vader, a boy who went to high school with Lucas. “Darth” is a title given to the Sith Lords of the Sith Order, such as Darth Sidious (Palpatine), Darth Tyranus (Count Dooku), and Darth Maul. It was widely believed for years that \"Darth Vader\" meant \"Dark Father\", even fueled by Lucas himself after the release of Star Wars: The Empire Strikes Back, despite contradicting the fact that the \"father\" twist in that film hadn't been planned when Darth Vader was created.\n",
      "The names of various Star Wars characters have been altered in countries outside\n",
      "\n",
      "---Result 2 ------\n",
      "\n",
      "\"The Imperial March (Darth Vader's Theme)\" is a musical theme present in the Star Wars franchise. It was composed by John Williams for the film The Empire Strikes Back. Together with \"Yoda's Theme\", \"The Imperial March\" premiered on April 29, 1980, three weeks before the opening of the film, on the occasion of John Williams' first concert as official conductor-in-residence of the Boston Pops Orchestra. One of the best known symphonic movie themes, it is used as a leitmotif throughout the Star Wars franchise.\n",
      "\n",
      "\n",
      "== Use in Star Wars ==\n",
      "\"The Imperial March\" is sometimes referred to simply as \"Darth Vader's Theme.\" In the movies (except for the original Star Wars), the march is often played when Darth Vader appears. It is also played during Darth Sidious's arrival on the Death Star in Return of the Jedi, though it does segue into the Emperor's own theme as he appears.\n",
      "\n",
      "\n",
      "=== Original trilogy ===\n",
      "\"The Imperial March\" is first heard in The Empire Strikes Back in low piccolos as the Galactic Empire sends probe droids across the galaxy in search of Luke Skywalker. Its major opening occurs as Imperial-class Star Destroyers amass and Darth Vader is first presented in the film, 19 minutes into the movie. The theme and related motifs are also incorporated into tracks such as \"The Battle of Hoth\" during the eponymous battle, \"The Asteroid Field\" during the chase sequence involving the Millennium Falcon, and \"The Clash of Lightsabers\" during Luke and Vader's duel on Cloud City over Bespin. Return of the Jedi makes similar use of the theme, though its final statement is significantly different, making quiet use of a harp as a redeemed Anakin Skywalker dies in his son's arms.\n",
      "\n",
      "\n",
      "=== Prequel trilogy ===\n",
      "\"The Imperial March\" appears on a few occasions in the prequel trilogy, most often used to foreshadow Anakin Skywalker's future as Darth Vader. An innocent theme for the nine-year-old Anakin in The Phantom Menace at 1H10  is thematically based on \"The Imperial March.\" \"The Imperial March\" is also heard towards the end, as Yoda acknowledges Anakin as Obi-Wan's apprentice in saying \"The Chosen One, the boy may be. Nevertheless, grave danger I fear in his training\" at 2H06. It is also heard softly at the end of the final credit roll, where it fades into the character's signature breathing, showing that the rest of the prequel trilogy will reveal how Anakin became Darth Vader. In the second prequel,  Attack of the Clones, \"The Imperial March\" is sometimes played subtly when an event foreshadows Anakin's future: It is first played when Yoda senses Anakin slaughtering a tribe of Tusken Raiders to avenge his mother's death and later with more force when Anakin tells Padmé Amidala what he did. It is played most prominently and recognizably during the final sequence when clone troopers assemble and depart Coruscant, foreshadowing the end of the Republic. Although \"Across the Stars\" is featured most prominently in the film's end credits, several notes from \"The Imperial March\" are heard beneath it near the end.\n",
      "In Revenge of the Sith \"The Imperial March\" is first played when Anakin rebukes the Jedi Council for denying him the rank of Jedi Master, although appointing him to the Council at 0H37. The track can also be heard when Anakin tells Mace Windu about Palpatine's true identity, Darth Sidious. It is later played when Anakin is dubbed as the Sith Darth Vader, shortly after the death of Mace Windu. \"The Imperial March\" is quoted when clone troopers find dead Wookiees on Kashyyyk and when Padmé confronts Anakin on Mustafar. A few notes of the \"March\" are played when Vader arrives on Mustafar to kill the Separatists. The piece is played more clearly during the \"Battle of the Heroes\" scene between Obi-Wan and Darth Vader at the movie's climax and in the simultaneous battle between Yoda and Sidious, as a rearrangement of the version heard in \"The Clash of Lightsabers\" from The Empire Strikes Back. It is also played when Darth Vader receives his armor at 2H06 a\n"
     ]
    }
   ],
   "source": [
    "for i,doc in enumerate(docs):\n",
    "    print(f\"\\n---Result {i+1} ------\\n\")\n",
    "    print(doc.page_content)"
   ]
  },
  {
   "cell_type": "code",
   "execution_count": 20,
   "id": "d012a757-2198-40a0-a182-b9227db18d35",
   "metadata": {},
   "outputs": [
    {
     "name": "stdout",
     "output_type": "stream",
     "text": [
      "2\n"
     ]
    }
   ],
   "source": [
    " print(len(docs))"
   ]
  },
  {
   "cell_type": "markdown",
   "id": "b241f80b-179c-4e6a-8dec-849c791efc6f",
   "metadata": {},
   "source": [
    "## Vector Retriever"
   ]
  },
  {
   "cell_type": "code",
   "execution_count": 21,
   "id": "7393044a-88ec-4326-8588-3fbd3e395f0f",
   "metadata": {},
   "outputs": [],
   "source": [
    "from langchain_chroma import Chroma\n",
    "from langchain_openai import OpenAIEmbeddings\n",
    "from langchain_core.documents import Document"
   ]
  },
  {
   "cell_type": "markdown",
   "id": "80378fa1-facb-4fc3-ac29-b421fadf5726",
   "metadata": {},
   "source": [
    "### Step1: Source Document "
   ]
  },
  {
   "cell_type": "code",
   "execution_count": 22,
   "id": "fd0af561-fb2b-4b68-84f1-2c8587d0c0b8",
   "metadata": {},
   "outputs": [],
   "source": [
    "documents = [\n",
    "    Document(\n",
    "        page_content=\"Anakin Skywalker was a Jedi Knight who later became Darth Vader after turning to the dark side.\",\n",
    "        metadata={\"character\": \"Anakin Skywalker\", \"alignment\": \"Sith\", \"event\": \"Fall of Anakin\"}\n",
    "    ),\n",
    "    Document(\n",
    "        page_content=\"Yoda trained Jedi for over 800 years and played a key role during the Clone Wars.\",\n",
    "        metadata={\"character\": \"Yoda\", \"species\": \"Yoda's species\", \"role\": \"Jedi Master\"}\n",
    "    ),\n",
    "    Document(\n",
    "        page_content=\"The Death Star was a moon-sized space station capable of destroying entire planets.\",\n",
    "        metadata={\"technology\": \"Death Star\", \"affiliation\": \"Galactic Empire\", \"type\": \"Superweapon\"}\n",
    "    ),\n",
    "    Document(\n",
    "        page_content=\"Luke Skywalker destroyed the first Death Star during the Battle of Yavin, marking a turning point for the Rebel Alliance.\",\n",
    "        metadata={\"character\": \"Luke Skywalker\", \"event\": \"Battle of Yavin\", \"alignment\": \"Rebel Alliance\"}\n",
    "    )\n",
    "]"
   ]
  },
  {
   "cell_type": "markdown",
   "id": "dd5c9a07-d07c-4ba8-94d9-1bfa087526bb",
   "metadata": {},
   "source": [
    "### Step2: Initialize embedding model"
   ]
  },
  {
   "cell_type": "code",
   "execution_count": 23,
   "id": "4592775a-9c35-47ce-bab7-d4cf5d31517d",
   "metadata": {},
   "outputs": [],
   "source": [
    "embedding_model = OpenAIEmbeddings()"
   ]
  },
  {
   "cell_type": "markdown",
   "id": "0051324a-9dd8-41c8-b8e1-4daae12b96f3",
   "metadata": {},
   "source": [
    "### Step3: Create Chroma vector store in memory"
   ]
  },
  {
   "cell_type": "code",
   "execution_count": 24,
   "id": "66eaaeeb-964d-4d0f-8e9b-55efe157d8ab",
   "metadata": {},
   "outputs": [],
   "source": [
    "vector_store = Chroma.from_documents(\n",
    "    documents=documents,\n",
    "    embedding=embedding_model,  \n",
    "    collection_name='star_wars_collection'\n",
    ")"
   ]
  },
  {
   "cell_type": "markdown",
   "id": "c219acab-9d2a-475c-aafa-1a44fdab5e61",
   "metadata": {},
   "source": [
    "### Step4: Convert vector store into a retriever"
   ]
  },
  {
   "cell_type": "code",
   "execution_count": 25,
   "id": "06cc682a-7a8f-4696-b75f-b1e7bf3fbc32",
   "metadata": {},
   "outputs": [],
   "source": [
    "retriever = vector_store.as_retriever(search_kwargs={\"k\": 2})"
   ]
  },
  {
   "cell_type": "code",
   "execution_count": 27,
   "id": "c06badd4-111d-4f95-b1c7-e00f7f66f886",
   "metadata": {},
   "outputs": [],
   "source": [
    "query=\"Who was Yoda?\"\n",
    "results = retriever.invoke(query) "
   ]
  },
  {
   "cell_type": "code",
   "execution_count": 28,
   "id": "95b9ecbd-05c2-426c-887a-5260801fbf45",
   "metadata": {},
   "outputs": [
    {
     "name": "stdout",
     "output_type": "stream",
     "text": [
      "page_content='Yoda trained Jedi for over 800 years and played a key role during the Clone Wars.' metadata={'species': \"Yoda's species\", 'character': 'Yoda', 'role': 'Jedi Master'}\n",
      "page_content='Anakin Skywalker was a Jedi Knight who later became Darth Vader after turning to the dark side.' metadata={'alignment': 'Sith', 'event': 'Fall of Anakin', 'character': 'Anakin Skywalker'}\n"
     ]
    }
   ],
   "source": [
    "for result in results:\n",
    "    print(result)\n",
    "    "
   ]
  },
  {
   "cell_type": "code",
   "execution_count": null,
   "id": "24908897-47bb-4432-8efe-b972d5a64ce2",
   "metadata": {},
   "outputs": [],
   "source": []
  }
 ],
 "metadata": {
  "kernelspec": {
   "display_name": "Python 3 (ipykernel)",
   "language": "python",
   "name": "python3"
  },
  "language_info": {
   "codemirror_mode": {
    "name": "ipython",
    "version": 3
   },
   "file_extension": ".py",
   "mimetype": "text/x-python",
   "name": "python",
   "nbconvert_exporter": "python",
   "pygments_lexer": "ipython3",
   "version": "3.12.5"
  }
 },
 "nbformat": 4,
 "nbformat_minor": 5
}
