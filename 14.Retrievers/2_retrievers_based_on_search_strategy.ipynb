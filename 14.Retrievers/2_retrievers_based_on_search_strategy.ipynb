{
 "cells": [
  {
   "cell_type": "markdown",
   "id": "9bd43159-e1f6-4197-8ef2-8beb9a10694f",
   "metadata": {},
   "source": [
    "# Based on Search Strategy"
   ]
  },
  {
   "cell_type": "markdown",
   "id": "ef5525e7-e075-4b43-a0e2-233f2af0220b",
   "metadata": {},
   "source": [
    "## MMR (Maximum Marginal Retriever)"
   ]
  },
  {
   "cell_type": "code",
   "execution_count": 3,
   "id": "a26311c4-3d0f-4c02-a322-ad30b4746a3d",
   "metadata": {},
   "outputs": [],
   "source": [
    "from langchain.schema import Document\n",
    "from langchain_community.vectorstores import FAISS\n",
    "from langchain_openai import OpenAIEmbeddings"
   ]
  },
  {
   "cell_type": "code",
   "execution_count": 4,
   "id": "b4194de6-d9f4-4173-a48e-1108f0f9a92d",
   "metadata": {},
   "outputs": [],
   "source": [
    "\n",
    "documents = [\n",
    "    Document(\n",
    "        page_content=\"Anakin Skywalker was a Jedi Knight who later became Darth Vader after turning to the dark side.\",\n",
    "        metadata={\"character\": \"Anakin Skywalker\", \"alignment\": \"Sith\", \"event\": \"Fall of Anakin\"}\n",
    "    ),\n",
    "    Document(\n",
    "        page_content=\"Yoda trained Jedi for over 800 years and played a key role during the Clone Wars.\",\n",
    "        metadata={\"character\": \"Yoda\", \"species\": \"Yoda's species\", \"role\": \"Jedi Master\"}\n",
    "    ),\n",
    "    Document(\n",
    "        page_content=\"The Death Star was a moon-sized space station capable of destroying entire planets.\",\n",
    "        metadata={\"technology\": \"Death Star\", \"affiliation\": \"Galactic Empire\", \"type\": \"Superweapon\"}\n",
    "    ),\n",
    "    Document(\n",
    "        page_content=\"Luke Skywalker destroyed the first Death Star during the Battle of Yavin, marking a turning point for the Rebel Alliance.\",\n",
    "        metadata={\"character\": \"Luke Skywalker\", \"event\": \"Battle of Yavin\", \"alignment\": \"Rebel Alliance\"}\n",
    "    ),\n",
    "    Document(\n",
    "        page_content=\"Darth Vader, once known as Anakin Skywalker, was seduced by the dark side of the Force and became the Emperor's enforcer.\",\n",
    "        metadata={\"character\": \"Darth Vader\", \"previous_identity\": \"Anakin Skywalker\", \"role\": \"Sith Lord\"}\n",
    "    ),\n",
    "    Document(\n",
    "        page_content=\"The Jedi Master Yoda mentored generations of Jedi and was deeply involved in the Jedi Council's decisions during the war.\",\n",
    "        metadata={\"character\": \"Yoda\", \"role\": \"Mentor\", \"involvement\": \"Jedi Council\"}\n",
    "    ),\n",
    "    Document(\n",
    "        page_content=\"The first Death Star, an enormous weaponized space station, was obliterated by Luke Skywalker in a decisive Rebel victory.\",\n",
    "        metadata={\"event\": \"Death Star Destruction\", \"character\": \"Luke Skywalker\", \"faction\": \"Rebels\"}\n",
    "    ),\n",
    "    Document(\n",
    "        page_content=\"Leia Organa was a leader of the Rebel Alliance, known for her courage, diplomacy, and connection to the Skywalker bloodline.\",\n",
    "        metadata={\"character\": \"Leia Organa\", \"affiliation\": \"Rebel Alliance\", \"role\": \"Leader\"}\n",
    "    ),\n",
    "    Document(\n",
    "        page_content=\"Obi-Wan Kenobi fought his former apprentice Anakin on Mustafar, resulting in Anakin’s severe injuries and transformation into Vader.\",\n",
    "        metadata={\"character\": \"Obi-Wan Kenobi\", \"event\": \"Mustafar Duel\", \"opponent\": \"Anakin Skywalker\"}\n",
    "    )\n",
    "]\n"
   ]
  },
  {
   "cell_type": "code",
   "execution_count": 5,
   "id": "920bc32b-4e06-4e0f-88b4-0483705c91de",
   "metadata": {},
   "outputs": [],
   "source": [
    "vector_store = FAISS.from_documents(\n",
    "    documents=documents,embedding=OpenAIEmbeddings()\n",
    ")"
   ]
  },
  {
   "cell_type": "code",
   "execution_count": 13,
   "id": "ef6ed153-15c2-4ade-955f-0907a88764e0",
   "metadata": {},
   "outputs": [],
   "source": [
    "retriever = vector_store.as_retriever(\n",
    "    search_type='mmr',\n",
    "    search_kwargs={\"k\":3, \"lambda_mult\":0.5} # k = no. of result, lambda_mult = relevance-diversity balance\n",
    ")"
   ]
  },
  {
   "cell_type": "code",
   "execution_count": 14,
   "id": "4bc085aa-3e7d-42f6-bb5f-354aeadf2c9a",
   "metadata": {},
   "outputs": [],
   "source": [
    "query=\"Who is Anakin?\"\n",
    "results = retriever.invoke(query)"
   ]
  },
  {
   "cell_type": "code",
   "execution_count": 15,
   "id": "9b0f97fd-9a84-4839-8362-c5b003a5207a",
   "metadata": {},
   "outputs": [
    {
     "name": "stdout",
     "output_type": "stream",
     "text": [
      "\n",
      " ********************* Result 1********************************************\n",
      "Anakin Skywalker was a Jedi Knight who later became Darth Vader after turning to the dark side.\n",
      "\n",
      " ********************* Result 2********************************************\n",
      "Leia Organa was a leader of the Rebel Alliance, known for her courage, diplomacy, and connection to the Skywalker bloodline.\n",
      "\n",
      " ********************* Result 3********************************************\n",
      "Obi-Wan Kenobi fought his former apprentice Anakin on Mustafar, resulting in Anakin’s severe injuries and transformation into Vader.\n"
     ]
    }
   ],
   "source": [
    "for i,result in enumerate(results):\n",
    "    print(f\"\\n ********************* Result {i + 1}********************************************\" )\n",
    "    print(result.page_content)"
   ]
  },
  {
   "cell_type": "markdown",
   "id": "a08a2902-e8c1-4b01-994f-86013b60281e",
   "metadata": {},
   "source": [
    "## Multi-Query Retriever"
   ]
  },
  {
   "cell_type": "code",
   "execution_count": 18,
   "id": "bb472341-5cb8-4826-bb6e-60fe38fc7d00",
   "metadata": {},
   "outputs": [],
   "source": [
    "from langchain.schema import Document\n",
    "from langchain_community.vectorstores import FAISS\n",
    "from langchain_openai import OpenAIEmbeddings\n",
    "from langchain_openai import ChatOpenAI\n",
    "from langchain.retrievers.multi_query import MultiQueryRetriever"
   ]
  },
  {
   "cell_type": "code",
   "execution_count": 20,
   "id": "e4e3771a-9f64-4158-bb5f-bacbffcdb1f5",
   "metadata": {},
   "outputs": [],
   "source": [
    "documents = [\n",
    "    Document(\n",
    "        page_content=\"Anakin Skywalker was a Jedi Knight who later became Darth Vader after turning to the dark side.\",\n",
    "        metadata={\"character\": \"Anakin Skywalker\", \"alignment\": \"Sith\", \"event\": \"Fall of Anakin\"}\n",
    "    ),\n",
    "    Document(\n",
    "        page_content=\"Yoda trained Jedi for over 800 years and played a key role during the Clone Wars.\",\n",
    "        metadata={\"character\": \"Yoda\", \"species\": \"Yoda's species\", \"role\": \"Jedi Master\"}\n",
    "    ),\n",
    "    Document(\n",
    "        page_content=\"The Death Star was a moon-sized space station capable of destroying entire planets.\",\n",
    "        metadata={\"technology\": \"Death Star\", \"affiliation\": \"Galactic Empire\", \"type\": \"Superweapon\"}\n",
    "    ),\n",
    "    Document(\n",
    "        page_content=\"Luke Skywalker destroyed the first Death Star during the Battle of Yavin, marking a turning point for the Rebel Alliance.\",\n",
    "        metadata={\"character\": \"Luke Skywalker\", \"event\": \"Battle of Yavin\", \"alignment\": \"Rebel Alliance\"}\n",
    "    ),\n",
    "    Document(\n",
    "        page_content=\"Darth Vader, once known as Anakin Skywalker, was seduced by the dark side of the Force and became the Emperor's enforcer.\",\n",
    "        metadata={\"character\": \"Darth Vader\", \"previous_identity\": \"Anakin Skywalker\", \"role\": \"Sith Lord\"}\n",
    "    ),\n",
    "    Document(\n",
    "        page_content=\"The Jedi Master Yoda mentored generations of Jedi and was deeply involved in the Jedi Council's decisions during the war.\",\n",
    "        metadata={\"character\": \"Yoda\", \"role\": \"Mentor\", \"involvement\": \"Jedi Council\"}\n",
    "    ),\n",
    "    Document(\n",
    "        page_content=\"The first Death Star, an enormous weaponized space station, was obliterated by Luke Skywalker in a decisive Rebel victory.\",\n",
    "        metadata={\"event\": \"Death Star Destruction\", \"character\": \"Luke Skywalker\", \"faction\": \"Rebels\"}\n",
    "    ),\n",
    "    Document(\n",
    "        page_content=\"Leia Organa was a leader of the Rebel Alliance, known for her courage, diplomacy, and connection to the Skywalker bloodline.\",\n",
    "        metadata={\"character\": \"Leia Organa\", \"affiliation\": \"Rebel Alliance\", \"role\": \"Leader\"}\n",
    "    ),\n",
    "    Document(\n",
    "        page_content=\"Obi-Wan Kenobi fought his former apprentice Anakin on Mustafar, resulting in Anakin’s severe injuries and transformation into Vader.\",\n",
    "        metadata={\"character\": \"Obi-Wan Kenobi\", \"event\": \"Mustafar Duel\", \"opponent\": \"Anakin Skywalker\"}\n",
    "    ),\n",
    "    Document(\n",
    "        page_content=\"Some say a forgotten Sith blueprint was hidden inside a datapad that also contained recipes for Corellian pie.\",\n",
    "        metadata={\"rumor\": \"Datapad Mystery\", \"contains\": [\"Sith Blueprint\", \"Pastry Recipe\"], \"credibility\": \"uncertain\"}\n",
    "    ),\n",
    "    Document(\n",
    "        page_content=\"A moisture farmer on Tatooine once claimed that binary sunsets influence Force sensitivity, though no empirical data supports this.\",\n",
    "        metadata={\"location\": \"Tatooine\", \"profession\": \"Moisture Farmer\", \"hypothesis\": \"Sunset-Force Link\"}\n",
    "    ),\n",
    "    Document(\n",
    "        page_content=\"During a little-known trade summit, Bothan spies argued over the best protocol droid etiquette while negotiating spice tariffs.\",\n",
    "        metadata={\"event\": \"Obscure Trade Summit\", \"participants\": [\"Bothan Spies\", \"Protocol Droids\"], \"topic\": \"Spice Tariffs\"}\n",
    "    ),\n",
    "    Document(\n",
    "        page_content=\"Legends tell of an astromech droid that could translate Shyriiwook but only after being submerged in bacta for three cycles.\",\n",
    "        metadata={\"droid_type\": \"Astromech\", \"language\": \"Shyriiwook\", \"method\": \"Bacta Immersion\"}\n",
    "    ),\n",
    "    Document(\n",
    "        page_content=\"A misplaced holocron reportedly lists every known sabacc variant alongside star-chart corrections for uncharted hyperspace lanes.\",\n",
    "        metadata={\"artifact\": \"Misplaced Holocron\", \"contents\": [\"Sabacc Variants\", \"Star-Chart Corrections\"], \"status\": \"Unverified\"}\n",
    "    )\n",
    "]\n"
   ]
  },
  {
   "cell_type": "code",
   "execution_count": 22,
   "id": "ffdc74c1-5367-4130-9137-2ca8ea706ecb",
   "metadata": {},
   "outputs": [],
   "source": [
    "# Embedding model\n",
    "embedding_model = OpenAIEmbeddings()\n",
    "\n",
    "# Creating model\n",
    "model = ChatOpenAI()\n",
    "\n",
    "# Creating Vector store \n",
    "vector_store = FAISS.from_documents(documents=all_docs, embedding=embedding_model)"
   ]
  },
  {
   "cell_type": "code",
   "execution_count": 23,
   "id": "6a8c60ec-2971-4330-aaa0-544c5b08fe0c",
   "metadata": {},
   "outputs": [],
   "source": [
    "# Creating Retriever\n",
    "similarity_retriever = vector_store.as_retriever(search_type='similarity', search_kwargs={\"k\":5}) "
   ]
  },
  {
   "cell_type": "code",
   "execution_count": 24,
   "id": "10433e22-383b-4d7a-a534-f715a5bfc04c",
   "metadata": {},
   "outputs": [],
   "source": [
    "# Multi-Query Retriever\n",
    "\n",
    "multi_query_retriever = MultiQueryRetriever.from_llm(\n",
    "        retriever=vector_store.as_retriever(search_kwarg={\"k\":5}), \n",
    "        llm=ChatOpenAI(model='gpt-3.5-turbo')\n",
    ")"
   ]
  },
  {
   "cell_type": "code",
   "execution_count": 25,
   "id": "66395cf0-d778-415d-ab8f-9e23960747cc",
   "metadata": {},
   "outputs": [],
   "source": [
    "# Query\n",
    "query= \"Which Jedi-associated artifact contains dessert schematics and how is it related to the Death Star's demise during binary sunset rituals?\""
   ]
  },
  {
   "cell_type": "code",
   "execution_count": 26,
   "id": "04ca4536-bf5f-4fb7-a143-686738e75ce1",
   "metadata": {},
   "outputs": [],
   "source": [
    "# Retriever Result\n",
    "\n",
    "similarity_results= similarity_retriever.invoke(query)\n",
    "multi_query_results = multi_query_retriever.invoke(query)"
   ]
  },
  {
   "cell_type": "code",
   "execution_count": 27,
   "id": "107aff91-33fa-445f-a6e6-6f6b9960ecd8",
   "metadata": {},
   "outputs": [],
   "source": [
    "# Similarity Result \n",
    "def printResult(docs):\n",
    "    for i,doc in enumerate(docs):\n",
    "        print(f\"\\n---------------------------------------Doc {i+1}--------------------------------------- \")\n",
    "        print(doc.page_content)"
   ]
  },
  {
   "cell_type": "code",
   "execution_count": 28,
   "id": "c395457b-0542-4904-b061-9a39ae10c921",
   "metadata": {},
   "outputs": [
    {
     "name": "stdout",
     "output_type": "stream",
     "text": [
      "\n",
      "---------------------------------------Doc 1--------------------------------------- \n",
      "The first Death Star, an enormous weaponized space station, was obliterated by Luke Skywalker in a decisive Rebel victory.\n",
      "\n",
      "---------------------------------------Doc 2--------------------------------------- \n",
      "Luke Skywalker destroyed the first Death Star during the Battle of Yavin, marking a turning point for the Rebel Alliance.\n",
      "\n",
      "---------------------------------------Doc 3--------------------------------------- \n",
      "The Death Star was a moon-sized space station capable of destroying entire planets.\n",
      "\n",
      "---------------------------------------Doc 4--------------------------------------- \n",
      "Anakin Skywalker was a Jedi Knight who later became Darth Vader after turning to the dark side.\n",
      "\n",
      "---------------------------------------Doc 5--------------------------------------- \n",
      "Darth Vader, once known as Anakin Skywalker, was seduced by the dark side of the Force and became the Emperor's enforcer.\n"
     ]
    }
   ],
   "source": [
    "printResult(similarity_results)\n"
   ]
  },
  {
   "cell_type": "code",
   "execution_count": 29,
   "id": "f0e86a6e-8439-4a9a-84b8-ac8498a3753c",
   "metadata": {},
   "outputs": [
    {
     "name": "stdout",
     "output_type": "stream",
     "text": [
      "\n",
      "---------------------------------------Doc 1--------------------------------------- \n",
      "The first Death Star, an enormous weaponized space station, was obliterated by Luke Skywalker in a decisive Rebel victory.\n",
      "\n",
      "---------------------------------------Doc 2--------------------------------------- \n",
      "Luke Skywalker destroyed the first Death Star during the Battle of Yavin, marking a turning point for the Rebel Alliance.\n",
      "\n",
      "---------------------------------------Doc 3--------------------------------------- \n",
      "The Death Star was a moon-sized space station capable of destroying entire planets.\n",
      "\n",
      "---------------------------------------Doc 4--------------------------------------- \n",
      "Anakin Skywalker was a Jedi Knight who later became Darth Vader after turning to the dark side.\n"
     ]
    }
   ],
   "source": [
    "printResult(multi_query_results)"
   ]
  },
  {
   "cell_type": "markdown",
   "id": "12d3ed6f-a6ec-49fb-941c-4dd528083694",
   "metadata": {},
   "source": [
    "## Contextual Compression Retriever"
   ]
  },
  {
   "cell_type": "code",
   "execution_count": 30,
   "id": "d28b61a9-e9ac-4e3b-ac87-512cb2e47ede",
   "metadata": {},
   "outputs": [],
   "source": [
    "from langchain_community.vectorstores import FAISS\n",
    "from langchain_openai import ChatOpenAI, OpenAIEmbeddings\n",
    "from langchain.retrievers.contextual_compression import ContextualCompressionRetriever\n",
    "from langchain.retrievers.document_compressors import LLMChainExtractor\n",
    "from langchain_core.documents import Document"
   ]
  },
  {
   "cell_type": "code",
   "execution_count": 31,
   "id": "6604ea8c-52e9-4cfd-b2c3-252278a8a089",
   "metadata": {},
   "outputs": [],
   "source": [
    "vector_store = FAISS.from_documents(documents, OpenAIEmbeddings())"
   ]
  },
  {
   "cell_type": "code",
   "execution_count": 32,
   "id": "9cf2d012-cb6b-46af-9af0-e8afc9c3f0aa",
   "metadata": {},
   "outputs": [],
   "source": [
    "base_retriever = vector_store.as_retriever(search_kwargs={\"k\":5})"
   ]
  },
  {
   "cell_type": "code",
   "execution_count": 33,
   "id": "93f4a7e2-4b55-46e8-9cbd-18aa777530aa",
   "metadata": {},
   "outputs": [],
   "source": [
    "# Set up compressor using LLM\n",
    "llm = ChatOpenAI(model='gpt-3.5-turbo')\n",
    "compressor = LLMChainExtractor.from_llm(llm)"
   ]
  },
  {
   "cell_type": "code",
   "execution_count": 34,
   "id": "474a19b8-c89c-4919-96ae-ac0844f0bdec",
   "metadata": {},
   "outputs": [],
   "source": [
    "# Create the Contextual Compression retriever \n",
    "compressor_retriever = ContextualCompressionRetriever(\n",
    "    base_compressor=compressor,\n",
    "    base_retriever=base_retriever\n",
    ")"
   ]
  },
  {
   "cell_type": "code",
   "execution_count": 35,
   "id": "5bf94f8e-6f37-4a68-b7ed-f9a8cd29d2a4",
   "metadata": {},
   "outputs": [],
   "source": [
    "query=\"Who was Anakin?\"\n",
    "compressed_result = compressor_retriever.invoke(query)"
   ]
  },
  {
   "cell_type": "code",
   "execution_count": 37,
   "id": "c023f46e-b3e6-4216-bf70-d940893d9586",
   "metadata": {},
   "outputs": [
    {
     "name": "stdout",
     "output_type": "stream",
     "text": [
      "Anakin Skywalker was a Jedi Knight who later became Darth Vader after turning to the dark side.\n",
      "Anakin Skywalker\n",
      "Anakin\n"
     ]
    }
   ],
   "source": [
    "for result in compressed_result:\n",
    "    print(result.page_content)"
   ]
  },
  {
   "cell_type": "code",
   "execution_count": null,
   "id": "de85c170-e397-43e6-bfc3-71ea4ddc7628",
   "metadata": {},
   "outputs": [],
   "source": []
  }
 ],
 "metadata": {
  "kernelspec": {
   "display_name": "Python 3 (ipykernel)",
   "language": "python",
   "name": "python3"
  },
  "language_info": {
   "codemirror_mode": {
    "name": "ipython",
    "version": 3
   },
   "file_extension": ".py",
   "mimetype": "text/x-python",
   "name": "python",
   "nbconvert_exporter": "python",
   "pygments_lexer": "ipython3",
   "version": "3.12.5"
  }
 },
 "nbformat": 4,
 "nbformat_minor": 5
}
