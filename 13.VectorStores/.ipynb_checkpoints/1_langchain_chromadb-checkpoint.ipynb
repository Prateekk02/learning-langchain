{
 "cells": [
  {
   "cell_type": "markdown",
   "id": "0275ee6e-08ac-42e2-9fd0-7bf959545fd1",
   "metadata": {},
   "source": [
    "# LangChain ChormaDB"
   ]
  },
  {
   "cell_type": "code",
   "execution_count": 9,
   "id": "42287e47-2a0f-4871-bc7a-954646c588ec",
   "metadata": {},
   "outputs": [],
   "source": [
    "from langchain_openai import ChatOpenAI, OpenAIEmbeddings\n",
    "from langchain_chroma import Chroma"
   ]
  },
  {
   "cell_type": "code",
   "execution_count": 12,
   "id": "220356ef-6b1e-4c39-84e7-2ad6f5bcffb8",
   "metadata": {},
   "outputs": [],
   "source": [
    "from langchain.schema import Document\n",
    "\n",
    "\n",
    "doc1 = Document(\n",
    "        page_content=\"Anakin Skywalker was a Jedi Knight who later became Darth Vader. Known for his strength in the Force and emotional volatility.\",\n",
    "        metadata={\"duel_technique\": \"Aggressive Form V (Djem So) with raw power\"}\n",
    "    )\n",
    "doc2 = Document(\n",
    "        page_content=\"Obi-Wan Kenobi was a wise and disciplined Jedi Master, known for his patience and skill in defensive combat.\",\n",
    "        metadata={\"duel_technique\": \"Form III (Soresu) – defensive and precise\"}\n",
    "    )\n",
    "doc3 = Document(\n",
    "        page_content=\"Yoda was a Grand Master of the Jedi Order, small in stature but immensely powerful and agile in combat.\",\n",
    "        metadata={\"duel_technique\": \"Form IV (Ataru) – acrobatic and fast-paced\"}\n",
    "    )\n",
    "doc4 = Document(\n",
    "        page_content=\"Darth Maul was a Sith Lord with a fearsome double-bladed lightsaber and intense physical combat style.\",\n",
    "        metadata={\"duel_technique\": \"Juyo – Form VII with aggressive acrobatics\"}\n",
    "    )\n",
    "doc5 = Document(\n",
    "        page_content=\"Mace Windu was a Jedi Master known for his unique mastery of Form VII, balancing aggression with inner control.\",\n",
    "        metadata={\"duel_technique\": \"Vaapad – controlled Form VII variant\"}\n",
    "    )"
   ]
  },
  {
   "cell_type": "code",
   "execution_count": 14,
   "id": "3871796e-7573-4fe9-bcf2-498cfb0ea498",
   "metadata": {},
   "outputs": [],
   "source": [
    "docs = [doc1, doc2, doc3, doc4, doc5]"
   ]
  },
  {
   "cell_type": "code",
   "execution_count": 15,
   "id": "e6e66cdb-93ac-414a-9a3c-f8fb54782729",
   "metadata": {},
   "outputs": [],
   "source": [
    "vector_store = Chroma(\n",
    "    embedding_function=OpenAIEmbeddings(),\n",
    "    persist_directory='chroma-db', \n",
    "    collection_name='sample'\n",
    ")"
   ]
  },
  {
   "cell_type": "markdown",
   "id": "64385c0f-3434-4785-908c-05a19f8a51c2",
   "metadata": {},
   "source": [
    "## Adding Documents to Vector Database"
   ]
  },
  {
   "cell_type": "code",
   "execution_count": 16,
   "id": "ee2dc092-95cf-4081-90b2-923a3a03ed22",
   "metadata": {},
   "outputs": [
    {
     "data": {
      "text/plain": [
       "['0e61befc-3ff1-4dd6-a48d-6fd7ddd9e459',\n",
       " '74b2787a-cf1b-47e6-bc9a-4fd350d1031e',\n",
       " '4d85f22f-93cc-4233-9493-84e6bf281f56',\n",
       " 'a7d21de1-d134-4a9b-b748-3f9a721a3f66',\n",
       " '6ae9c737-9c1b-4c88-8b67-79e4fcf9bdb5']"
      ]
     },
     "execution_count": 16,
     "metadata": {},
     "output_type": "execute_result"
    }
   ],
   "source": [
    "vector_store.add_documents(docs)"
   ]
  },
  {
   "cell_type": "markdown",
   "id": "0902ed19-bc5a-4ff6-a785-9cc5fcf392f3",
   "metadata": {},
   "source": [
    "## View Documents"
   ]
  },
  {
   "cell_type": "code",
   "execution_count": 19,
   "id": "f1d0fbd5-cb90-4d1a-ac1a-fcd863aef718",
   "metadata": {},
   "outputs": [
    {
     "data": {
      "text/plain": [
       "{'ids': ['0e61befc-3ff1-4dd6-a48d-6fd7ddd9e459',\n",
       "  '74b2787a-cf1b-47e6-bc9a-4fd350d1031e',\n",
       "  '4d85f22f-93cc-4233-9493-84e6bf281f56',\n",
       "  'a7d21de1-d134-4a9b-b748-3f9a721a3f66',\n",
       "  '6ae9c737-9c1b-4c88-8b67-79e4fcf9bdb5'],\n",
       " 'embeddings': array([[-0.01214767, -0.0328187 , -0.00651125, ..., -0.00197306,\n",
       "         -0.00279946,  0.00174654],\n",
       "        [-0.00494969, -0.02309853, -0.0138845 , ..., -0.01031184,\n",
       "         -0.0004676 , -0.00720877],\n",
       "        [-0.00715249, -0.01840835, -0.00640126, ..., -0.00961451,\n",
       "         -0.00279818, -0.03123612],\n",
       "        [-0.0235865 ,  0.00780861, -0.00197786, ..., -0.00681888,\n",
       "          0.00233294,  0.00032877],\n",
       "        [-0.00729117, -0.0104587 , -0.00489764, ..., -0.00435779,\n",
       "          0.00524236, -0.02976306]], shape=(5, 1536)),\n",
       " 'documents': ['Anakin Skywalker was a Jedi Knight who later became Darth Vader. Known for his strength in the Force and emotional volatility.',\n",
       "  'Obi-Wan Kenobi was a wise and disciplined Jedi Master, known for his patience and skill in defensive combat.',\n",
       "  'Yoda was a Grand Master of the Jedi Order, small in stature but immensely powerful and agile in combat.',\n",
       "  'Darth Maul was a Sith Lord with a fearsome double-bladed lightsaber and intense physical combat style.',\n",
       "  'Mace Windu was a Jedi Master known for his unique mastery of Form VII, balancing aggression with inner control.'],\n",
       " 'uris': None,\n",
       " 'included': ['embeddings', 'documents', 'metadatas'],\n",
       " 'data': None,\n",
       " 'metadatas': [{'duel_technique': 'Aggressive Form V (Djem So) with raw power'},\n",
       "  {'duel_technique': 'Form III (Soresu) – defensive and precise'},\n",
       "  {'duel_technique': 'Form IV (Ataru) – acrobatic and fast-paced'},\n",
       "  {'duel_technique': 'Juyo – Form VII with aggressive acrobatics'},\n",
       "  {'duel_technique': 'Vaapad – controlled Form VII variant'}]}"
      ]
     },
     "execution_count": 19,
     "metadata": {},
     "output_type": "execute_result"
    }
   ],
   "source": [
    "vector_store.get(include=['embeddings', 'documents', 'metadatas'])"
   ]
  },
  {
   "cell_type": "markdown",
   "id": "cc1177b8-fa05-4ac2-80b1-2a36411fa3b9",
   "metadata": {},
   "source": [
    "## Search Documents "
   ]
  },
  {
   "cell_type": "code",
   "execution_count": null,
   "id": "8aaf360e-a562-412c-ac50-eac0d9bf25a4",
   "metadata": {},
   "outputs": [],
   "source": [
    "vector_store.similarity_search(\n",
    "    query=\"Who was the best duelist?\",\n",
    "    k=2\n",
    ")"
   ]
  }
 ],
 "metadata": {
  "kernelspec": {
   "display_name": "Python 3 (ipykernel)",
   "language": "python",
   "name": "python3"
  },
  "language_info": {
   "codemirror_mode": {
    "name": "ipython",
    "version": 3
   },
   "file_extension": ".py",
   "mimetype": "text/x-python",
   "name": "python",
   "nbconvert_exporter": "python",
   "pygments_lexer": "ipython3",
   "version": "3.12.5"
  }
 },
 "nbformat": 4,
 "nbformat_minor": 5
}
