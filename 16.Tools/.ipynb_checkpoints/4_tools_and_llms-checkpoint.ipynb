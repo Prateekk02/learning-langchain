{
 "cells": [
  {
   "cell_type": "markdown",
   "id": "fcc69604-abaf-45f3-b60e-159e8de11c48",
   "metadata": {},
   "source": [
    "# Tools and LLMs"
   ]
  },
  {
   "cell_type": "markdown",
   "id": "290a0d76-f046-4ccc-9f5c-25bf32db061e",
   "metadata": {},
   "source": [
    "## Tool Binding"
   ]
  },
  {
   "cell_type": "code",
   "execution_count": 3,
   "id": "85ddb4cf-06e1-44cd-99d2-9b20fbc36e16",
   "metadata": {},
   "outputs": [],
   "source": [
    "from langchain_openai import ChatOpenAI\n",
    "from langchain_community.tools import tool\n",
    "from langchain_core.messages import HumanMessage\n",
    "from dotenv import load_dotenv\n",
    "import requests "
   ]
  },
  {
   "cell_type": "markdown",
   "id": "2442be40-ce8c-43c6-8c21-558ed6eb90db",
   "metadata": {},
   "source": [
    "### Create Tool "
   ]
  },
  {
   "cell_type": "code",
   "execution_count": 4,
   "id": "efcafa13-cbaa-4587-9828-508f481566fc",
   "metadata": {},
   "outputs": [],
   "source": [
    "@tool\n",
    "def multiply(a: int, b: int) -> int: \n",
    "    '''Multiply two numbers'''\n",
    "    return a * b"
   ]
  },
  {
   "cell_type": "markdown",
   "id": "52fb4386-c567-472f-94d3-c7c720a99f0a",
   "metadata": {},
   "source": [
    "### Tool binding"
   ]
  },
  {
   "cell_type": "code",
   "execution_count": 5,
   "id": "22d1ce76-4569-4a44-8c96-9c507ec5cf6d",
   "metadata": {},
   "outputs": [],
   "source": [
    "llm = ChatOpenAI() "
   ]
  },
  {
   "cell_type": "code",
   "execution_count": 6,
   "id": "11aad0ae-300f-490c-81a0-a6061b3efb86",
   "metadata": {},
   "outputs": [],
   "source": [
    "llm_with_tool = llm.bind_tools([multiply])"
   ]
  },
  {
   "cell_type": "markdown",
   "id": "5a3e71de-8b32-4f8c-bf7e-6bea1d12e9d2",
   "metadata": {},
   "source": [
    "## Tool Calling"
   ]
  },
  {
   "cell_type": "code",
   "execution_count": 7,
   "id": "5d9039a4-29a9-4d4f-9244-70a9c04ba70f",
   "metadata": {},
   "outputs": [
    {
     "data": {
      "text/plain": [
       "\"Hello! I'm here and ready to help. How can I assist you today?\""
      ]
     },
     "execution_count": 7,
     "metadata": {},
     "output_type": "execute_result"
    }
   ],
   "source": [
    "llm_with_tool.invoke(\"Hi, how are you?\").content"
   ]
  },
  {
   "cell_type": "code",
   "execution_count": 9,
   "id": "26119ce5-3c5b-4442-9ee9-e0475750cdf0",
   "metadata": {},
   "outputs": [
    {
     "name": "stdout",
     "output_type": "stream",
     "text": [
      "content='' additional_kwargs={'tool_calls': [{'id': 'call_xGqeJtVPT0UdzzEvCbnQ3BYT', 'function': {'arguments': '{\"a\": 8, \"b\": 73}', 'name': 'multiply'}, 'type': 'function'}], 'refusal': None} response_metadata={'token_usage': {'completion_tokens': 32, 'prompt_tokens': 54, 'total_tokens': 86, 'completion_tokens_details': {'accepted_prediction_tokens': 0, 'audio_tokens': 0, 'reasoning_tokens': 0, 'rejected_prediction_tokens': 0}, 'prompt_tokens_details': {'audio_tokens': 0, 'cached_tokens': 0}}, 'model_name': 'gpt-3.5-turbo-0125', 'system_fingerprint': None, 'id': 'chatcmpl-Bh1NR0G7uJOxyY1LqAQUEiZt4SKAJ', 'service_tier': 'default', 'finish_reason': 'tool_calls', 'logprobs': None} id='run--35d1b5a4-ce4c-484d-b1c8-f7255a9accb3-0' tool_calls=[{'name': 'multiply', 'args': {'a': 8, 'b': 73}, 'id': 'call_xGqeJtVPT0UdzzEvCbnQ3BYT', 'type': 'tool_call'}] usage_metadata={'input_tokens': 54, 'output_tokens': 32, 'total_tokens': 86, 'input_token_details': {'audio': 0, 'cache_read': 0}, 'output_token_details': {'audio': 0, 'reasoning': 0}}\n"
     ]
    }
   ],
   "source": [
    "result = llm_with_tool.invoke(\"What is 8 multiply by 73?\")\n",
    "print(result)"
   ]
  },
  {
   "cell_type": "code",
   "execution_count": 11,
   "id": "9ed64956-71f9-4595-9063-dc14f4dbcbd0",
   "metadata": {},
   "outputs": [
    {
     "name": "stdout",
     "output_type": "stream",
     "text": [
      "Content:  \n",
      "Tool Call: {'name': 'multiply', 'args': {'a': 8, 'b': 73}, 'id': 'call_xGqeJtVPT0UdzzEvCbnQ3BYT', 'type': 'tool_call'}\n"
     ]
    }
   ],
   "source": [
    "print(\"Content: \", result.content)\n",
    "print(\"Tool Call:\", result.tool_calls[0])"
   ]
  },
  {
   "cell_type": "markdown",
   "id": "1ed471cb-22fd-45ec-a373-220ba940cf35",
   "metadata": {},
   "source": [
    "## Tool Execution"
   ]
  },
  {
   "cell_type": "code",
   "execution_count": 12,
   "id": "b0fd1641-0566-4075-91e4-864e729adb87",
   "metadata": {},
   "outputs": [
    {
     "data": {
      "text/plain": [
       "584"
      ]
     },
     "execution_count": 12,
     "metadata": {},
     "output_type": "execute_result"
    }
   ],
   "source": [
    "multiply.invoke(result.tool_calls[0]['args'])"
   ]
  },
  {
   "cell_type": "code",
   "execution_count": 14,
   "id": "e371238b-316d-4b36-81fd-3aaeaa0f4a4e",
   "metadata": {},
   "outputs": [
    {
     "data": {
      "text/plain": [
       "ToolMessage(content='584', name='multiply', tool_call_id='call_xGqeJtVPT0UdzzEvCbnQ3BYT')"
      ]
     },
     "execution_count": 14,
     "metadata": {},
     "output_type": "execute_result"
    }
   ],
   "source": [
    "multiply.invoke(result.tool_calls[0])"
   ]
  },
  {
   "cell_type": "markdown",
   "id": "f616fb30-088b-418f-8022-b33109602cba",
   "metadata": {},
   "source": [
    "# Organizing the flow "
   ]
  },
  {
   "cell_type": "markdown",
   "id": "bfdc776c-f360-4801-8cf6-ebd961594bb6",
   "metadata": {},
   "source": [
    "- LLM Creation\n",
    "- Tool binding with LLM \n",
    "- Query wrapped with HumanMessage\n",
    "- Pass to the LLM with tool obtain AIMessage\n",
    "- Send the AIMessage to tool ang get ToolMessage "
   ]
  },
  {
   "cell_type": "code",
   "execution_count": 49,
   "id": "b41da873-c88c-410c-8037-01b9664cf876",
   "metadata": {},
   "outputs": [],
   "source": [
    "llm = ChatOpenAI() \n",
    "llm_with_tool = llm.bind_tools([multiply])\n",
    "query = HumanMessage(content=\"What is 73 multiplied by 43?\")\n",
    "message = [query] \n",
    "result = llm_with_tool.invoke(message)"
   ]
  },
  {
   "cell_type": "code",
   "execution_count": 50,
   "id": "f7716a8b-4419-40f7-965e-76b9a15f9a47",
   "metadata": {},
   "outputs": [],
   "source": [
    "message.append(result)"
   ]
  },
  {
   "cell_type": "code",
   "execution_count": 51,
   "id": "395e89ac-27d0-4d71-bf29-5024c588dc42",
   "metadata": {},
   "outputs": [
    {
     "name": "stdout",
     "output_type": "stream",
     "text": [
      "[HumanMessage(content='What is 73 multiplied by 43?', additional_kwargs={}, response_metadata={}), AIMessage(content='', additional_kwargs={'tool_calls': [{'id': 'call_gvQoHqY6rPJCxpTBtzCVEpr4', 'function': {'arguments': '{\"a\": 73, \"b\": 43}', 'name': 'multiply'}, 'type': 'function'}], 'refusal': None}, response_metadata={'token_usage': {'completion_tokens': 32, 'prompt_tokens': 54, 'total_tokens': 86, 'completion_tokens_details': {'accepted_prediction_tokens': 0, 'audio_tokens': 0, 'reasoning_tokens': 0, 'rejected_prediction_tokens': 0}, 'prompt_tokens_details': {'audio_tokens': 0, 'cached_tokens': 0}}, 'model_name': 'gpt-3.5-turbo-0125', 'system_fingerprint': None, 'id': 'chatcmpl-Bh4nmPcBTYsV405mnsa7VWeF9Zdl6', 'service_tier': 'default', 'finish_reason': 'tool_calls', 'logprobs': None}, id='run--3db45fbe-3d2e-4ed2-b99b-7d945ebb4a77-0', tool_calls=[{'name': 'multiply', 'args': {'a': 73, 'b': 43}, 'id': 'call_gvQoHqY6rPJCxpTBtzCVEpr4', 'type': 'tool_call'}], usage_metadata={'input_tokens': 54, 'output_tokens': 32, 'total_tokens': 86, 'input_token_details': {'audio': 0, 'cache_read': 0}, 'output_token_details': {'audio': 0, 'reasoning': 0}})]\n"
     ]
    }
   ],
   "source": [
    "print(message)"
   ]
  },
  {
   "cell_type": "code",
   "execution_count": 52,
   "id": "3e655298-6b27-41af-8d92-57650debc306",
   "metadata": {},
   "outputs": [],
   "source": [
    "tool_result = multiply.invoke(result.tool_calls[0])"
   ]
  },
  {
   "cell_type": "code",
   "execution_count": 53,
   "id": "5778c161-4001-4dfa-862a-8f0a7cbfe7e9",
   "metadata": {},
   "outputs": [],
   "source": [
    "message.append(tool_result)"
   ]
  },
  {
   "cell_type": "code",
   "execution_count": 54,
   "id": "46640c98-d792-4054-9d70-ce1286528133",
   "metadata": {},
   "outputs": [
    {
     "name": "stdout",
     "output_type": "stream",
     "text": [
      "[HumanMessage(content='What is 73 multiplied by 43?', additional_kwargs={}, response_metadata={}), AIMessage(content='', additional_kwargs={'tool_calls': [{'id': 'call_gvQoHqY6rPJCxpTBtzCVEpr4', 'function': {'arguments': '{\"a\": 73, \"b\": 43}', 'name': 'multiply'}, 'type': 'function'}], 'refusal': None}, response_metadata={'token_usage': {'completion_tokens': 32, 'prompt_tokens': 54, 'total_tokens': 86, 'completion_tokens_details': {'accepted_prediction_tokens': 0, 'audio_tokens': 0, 'reasoning_tokens': 0, 'rejected_prediction_tokens': 0}, 'prompt_tokens_details': {'audio_tokens': 0, 'cached_tokens': 0}}, 'model_name': 'gpt-3.5-turbo-0125', 'system_fingerprint': None, 'id': 'chatcmpl-Bh4nmPcBTYsV405mnsa7VWeF9Zdl6', 'service_tier': 'default', 'finish_reason': 'tool_calls', 'logprobs': None}, id='run--3db45fbe-3d2e-4ed2-b99b-7d945ebb4a77-0', tool_calls=[{'name': 'multiply', 'args': {'a': 73, 'b': 43}, 'id': 'call_gvQoHqY6rPJCxpTBtzCVEpr4', 'type': 'tool_call'}], usage_metadata={'input_tokens': 54, 'output_tokens': 32, 'total_tokens': 86, 'input_token_details': {'audio': 0, 'cache_read': 0}, 'output_token_details': {'audio': 0, 'reasoning': 0}}), ToolMessage(content='3139', name='multiply', tool_call_id='call_gvQoHqY6rPJCxpTBtzCVEpr4')]\n"
     ]
    }
   ],
   "source": [
    "print(message)"
   ]
  },
  {
   "cell_type": "code",
   "execution_count": 55,
   "id": "04a68b14-d5fd-4de9-8d5e-0515f2ff067a",
   "metadata": {},
   "outputs": [],
   "source": [
    "answer = llm_with_tool.invoke(message)"
   ]
  },
  {
   "cell_type": "code",
   "execution_count": 56,
   "id": "47f98cbf-7b18-471b-a343-d86e7137e642",
   "metadata": {},
   "outputs": [
    {
     "name": "stdout",
     "output_type": "stream",
     "text": [
      "73 multiplied by 43 is 3139.\n"
     ]
    }
   ],
   "source": [
    "print(answer.content)"
   ]
  },
  {
   "cell_type": "code",
   "execution_count": null,
   "id": "42dfb3a6-1a21-4bff-8c22-2cc6697f74bb",
   "metadata": {},
   "outputs": [],
   "source": []
  }
 ],
 "metadata": {
  "kernelspec": {
   "display_name": "Python 3 (ipykernel)",
   "language": "python",
   "name": "python3"
  },
  "language_info": {
   "codemirror_mode": {
    "name": "ipython",
    "version": 3
   },
   "file_extension": ".py",
   "mimetype": "text/x-python",
   "name": "python",
   "nbconvert_exporter": "python",
   "pygments_lexer": "ipython3",
   "version": "3.12.5"
  }
 },
 "nbformat": 4,
 "nbformat_minor": 5
}
