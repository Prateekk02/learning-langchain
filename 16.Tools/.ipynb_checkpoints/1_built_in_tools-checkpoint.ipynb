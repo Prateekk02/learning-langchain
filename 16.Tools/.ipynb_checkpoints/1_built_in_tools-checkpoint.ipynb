{
 "cells": [
  {
   "cell_type": "markdown",
   "id": "153b5d6f-cf85-4b9a-9773-9af7eedda75f",
   "metadata": {},
   "source": [
    "# Built-in Tools"
   ]
  },
  {
   "cell_type": "markdown",
   "id": "6dbdf557-8165-4eff-882f-18657e8e9916",
   "metadata": {},
   "source": [
    "## DuckDuckGo Search"
   ]
  },
  {
   "cell_type": "code",
   "execution_count": 2,
   "id": "6a604716-9ec5-405d-8a16-4152f2c5588a",
   "metadata": {},
   "outputs": [],
   "source": [
    "!pip install -q duckduckgo-search"
   ]
  },
  {
   "cell_type": "code",
   "execution_count": 3,
   "id": "f13c83d5-26fa-4883-8fac-07d24d7e20bf",
   "metadata": {},
   "outputs": [
    {
     "name": "stdout",
     "output_type": "stream",
     "text": [
      "Lawyers face sanctions for citing fake cases with AI, warns UK judge. June 6, 2025. ... Reuters, the news and media division of Thomson Reuters, is the world's largest multimedia news provider ... AI News reports on the latest artificial intelligence news and insights. Explore industry trends from the frontline of AI. Artificial Intelligence News. Everything on AI including futuristic robots with artificial intelligence, computer models of human intelligence and more. Displaying 1 - 15 of 1366 news articles related to this topic. Show: News Articles. In the Media. Audio. Teaching AI models what they don't know. A team of MIT researchers founded Themis AI to quantify AI model uncertainty and address knowledge gaps. June 3, 2025. Read full story →. AI stirs up the recipe for concrete in MIT study ... AI News. Real-time news coverage on artificial intelligence and tech companies updates and breakthroughs to keep you ahead in the world of AI. Latest in AI News. Manish Gupta Appointed President and MD of Dell Technologies-India 06/06/2025 5:04 pm\n"
     ]
    }
   ],
   "source": [
    "from langchain_community.tools import DuckDuckGoSearchRun\n",
    "\n",
    "search_tool = DuckDuckGoSearchRun()\n",
    "result = search_tool.invoke('Latest AI news')\n",
    "print(result)"
   ]
  },
  {
   "cell_type": "markdown",
   "id": "2cdbd63c-c2aa-4afe-a440-dbdaa9d85109",
   "metadata": {},
   "source": [
    "## Shell Tool"
   ]
  },
  {
   "cell_type": "code",
   "execution_count": 4,
   "id": "47cebec9-976e-4cc7-8ab3-fb4f36937ce7",
   "metadata": {},
   "outputs": [
    {
     "name": "stdout",
     "output_type": "stream",
     "text": [
      "Executing command:\n",
      " whoami\n",
      "PrateekKumar\n",
      "\n"
     ]
    },
    {
     "name": "stderr",
     "output_type": "stream",
     "text": [
      "E:\\Learning-Curve\\Langchain\\.venv\\Lib\\site-packages\\langchain_community\\tools\\shell\\tool.py:33: UserWarning: The shell tool has no safeguards by default. Use at your own risk.\n",
      "  warnings.warn(\n"
     ]
    }
   ],
   "source": [
    "from langchain_community.tools import ShellTool\n",
    "\n",
    "shell_tool = ShellTool() \n",
    "result = shell_tool.invoke('whoami')\n",
    "print(result)"
   ]
  },
  {
   "cell_type": "code",
   "execution_count": null,
   "id": "26e85a42-2f50-435f-9221-a1e7370e0274",
   "metadata": {},
   "outputs": [],
   "source": []
  }
 ],
 "metadata": {
  "kernelspec": {
   "display_name": "Python 3 (ipykernel)",
   "language": "python",
   "name": "python3"
  },
  "language_info": {
   "codemirror_mode": {
    "name": "ipython",
    "version": 3
   },
   "file_extension": ".py",
   "mimetype": "text/x-python",
   "name": "python",
   "nbconvert_exporter": "python",
   "pygments_lexer": "ipython3",
   "version": "3.12.5"
  }
 },
 "nbformat": 4,
 "nbformat_minor": 5
}
