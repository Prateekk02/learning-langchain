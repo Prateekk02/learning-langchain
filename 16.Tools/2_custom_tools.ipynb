{
 "cells": [
  {
   "cell_type": "markdown",
   "id": "b5a8546b-6305-4723-959b-872ec0878346",
   "metadata": {},
   "source": [
    "# Custom Tools -  Using @tool"
   ]
  },
  {
   "cell_type": "code",
   "execution_count": 1,
   "id": "e64a6d57-d403-45ed-a61f-ca1e7397a72c",
   "metadata": {},
   "outputs": [],
   "source": [
    "from langchain_community.tools import tool"
   ]
  },
  {
   "cell_type": "markdown",
   "id": "9691d5e5-1c00-4e9c-ada9-e5c3a00eb929",
   "metadata": {},
   "source": [
    "## Step 1 - Create a function"
   ]
  },
  {
   "cell_type": "code",
   "execution_count": 2,
   "id": "7c83eb50-eb29-4d3d-9eaa-4b1982ab7244",
   "metadata": {},
   "outputs": [],
   "source": [
    "def multiply(a,b): \n",
    "    '''Multiply two numbers'''\n",
    "    return a * b "
   ]
  },
  {
   "cell_type": "markdown",
   "id": "369c43f4-adfa-4466-9f5d-a80ad0fbdd0f",
   "metadata": {},
   "source": [
    "## Step 2 - Add type hints "
   ]
  },
  {
   "cell_type": "code",
   "execution_count": 3,
   "id": "a788199c-a229-401d-839a-d54f392a08bd",
   "metadata": {},
   "outputs": [],
   "source": [
    "def multipy(a:int, b:int) -> int:\n",
    "    \"\"\"Multiply two numbers\"\"\"\n",
    "    return a * b"
   ]
  },
  {
   "cell_type": "markdown",
   "id": "3b46fd79-9c13-4b89-af99-8020901a039b",
   "metadata": {},
   "source": [
    "## Step 3 - Add tool decorator"
   ]
  },
  {
   "cell_type": "code",
   "execution_count": 10,
   "id": "67c1e066-39de-457d-b532-74be311c3edc",
   "metadata": {},
   "outputs": [],
   "source": [
    "@tool\n",
    "def multiply(a:int, b:int) -> int: \n",
    "    '''Multiply two numbers'''\n",
    "    return a * b"
   ]
  },
  {
   "cell_type": "code",
   "execution_count": 11,
   "id": "19cf519c-d734-43a5-9117-8bd44a5389fa",
   "metadata": {},
   "outputs": [
    {
     "name": "stdout",
     "output_type": "stream",
     "text": [
      "10\n"
     ]
    }
   ],
   "source": [
    "result = multiply.invoke({\"a\":2,\"b\":5})\n",
    "print(result)"
   ]
  },
  {
   "cell_type": "code",
   "execution_count": 12,
   "id": "f0ecd2fe-8c43-4684-8ab0-5f6260f95550",
   "metadata": {},
   "outputs": [
    {
     "name": "stdout",
     "output_type": "stream",
     "text": [
      "multiply\n",
      "Multiply two numbers\n",
      "{'a': {'title': 'A', 'type': 'integer'}, 'b': {'title': 'B', 'type': 'integer'}}\n"
     ]
    }
   ],
   "source": [
    "print(multiply.name)\n",
    "print(multiply.description)\n",
    "print(multiply.args)"
   ]
  },
  {
   "cell_type": "code",
   "execution_count": 13,
   "id": "ae36790d-548f-4524-8af7-e208987de01e",
   "metadata": {},
   "outputs": [
    {
     "name": "stdout",
     "output_type": "stream",
     "text": [
      "{'description': 'Multiply two numbers', 'properties': {'a': {'title': 'A', 'type': 'integer'}, 'b': {'title': 'B', 'type': 'integer'}}, 'required': ['a', 'b'], 'title': 'multiply', 'type': 'object'}\n"
     ]
    }
   ],
   "source": [
    "print(multiply.args_schema.model_json_schema())"
   ]
  },
  {
   "cell_type": "markdown",
   "id": "54aeca41-7876-4d9f-9d42-3908efd284bb",
   "metadata": {},
   "source": [
    "# Custom Tools - StructuredTool & Pydantic"
   ]
  },
  {
   "cell_type": "code",
   "execution_count": 22,
   "id": "8e4a13d6-d51e-4317-9284-024138603c5d",
   "metadata": {},
   "outputs": [],
   "source": [
    "from langchain_community.tools import StructuredTool\n",
    "from pydantic import BaseModel, Field"
   ]
  },
  {
   "cell_type": "code",
   "execution_count": 23,
   "id": "db360cac-6f0e-46f9-9898-abd60ab3efd5",
   "metadata": {},
   "outputs": [],
   "source": [
    "class MultiplyInput(BaseModel):\n",
    "    a: int = Field(required=True, description=\"The first number to multiply\")\n",
    "    b: int = Field(required=True, description=\"The second number to multiply\")"
   ]
  },
  {
   "cell_type": "code",
   "execution_count": 24,
   "id": "919a7c2a-ae6f-4e55-aa5a-85d6d8f7c777",
   "metadata": {},
   "outputs": [],
   "source": [
    "def multiply(a,b) -> int:\n",
    "    return a * b"
   ]
  },
  {
   "cell_type": "code",
   "execution_count": 28,
   "id": "15e1ca05-75ba-47fe-bb95-162a50a078eb",
   "metadata": {},
   "outputs": [],
   "source": [
    "multiply_tool = StructuredTool.from_function(\n",
    "    func=multiply,\n",
    "    name=\"multiply\", \n",
    "    description=\"Multiply two numbers\",\n",
    "    args_schema=MultiplyInput  \n",
    ")"
   ]
  },
  {
   "cell_type": "code",
   "execution_count": 29,
   "id": "412385c8-074b-4888-8fa8-fb2f61984c76",
   "metadata": {},
   "outputs": [],
   "source": [
    "result = multiply_tool.invoke({\"a\":5, \"b\": 10})"
   ]
  },
  {
   "cell_type": "code",
   "execution_count": 30,
   "id": "4a4fdf0b-10f0-4c0b-bb62-821eafec3fed",
   "metadata": {},
   "outputs": [
    {
     "name": "stdout",
     "output_type": "stream",
     "text": [
      "50\n"
     ]
    }
   ],
   "source": [
    "print(result)"
   ]
  },
  {
   "cell_type": "markdown",
   "id": "81fffc20-a45f-44b4-9b41-2c61de77f078",
   "metadata": {},
   "source": [
    "# Custom Tool - Using BaseTool Class "
   ]
  },
  {
   "cell_type": "code",
   "execution_count": 31,
   "id": "e86f3477-0fd1-4481-af27-16b5108417cb",
   "metadata": {},
   "outputs": [],
   "source": [
    "from langchain.tools import BaseTool\n",
    "from typing import Type "
   ]
  },
  {
   "cell_type": "code",
   "execution_count": 32,
   "id": "ff17eb51-a31e-4eac-8fa5-0b75991b283a",
   "metadata": {},
   "outputs": [],
   "source": [
    "# arg schema using pydantic\n",
    "class MultiplyInput(BaseModel):\n",
    "    a: int = Field(required=True, description=\"The first number to multiply\")\n",
    "    b: int = Field(required=True, description=\"The second number to multiply\")"
   ]
  },
  {
   "cell_type": "code",
   "execution_count": 34,
   "id": "857f4b78-942f-4396-858c-222c90c5835f",
   "metadata": {},
   "outputs": [],
   "source": [
    "class MultiplyTool(BaseTool):\n",
    "    name: str = 'multiply'\n",
    "    description: str = 'Multiply two numbers'\n",
    "    args_schema: Type[BaseModel] = MultiplyInput\n",
    "\n",
    "    def _run(self, a: int, b:int) -> int:\n",
    "        return a * b"
   ]
  },
  {
   "cell_type": "code",
   "execution_count": 36,
   "id": "a0149e5d-b91a-4065-9c56-aa775dbe1351",
   "metadata": {},
   "outputs": [
    {
     "name": "stdout",
     "output_type": "stream",
     "text": [
      "50\n"
     ]
    }
   ],
   "source": [
    "multiply_tool = MultiplyTool()\n",
    "result = multiply_tool.invoke({\"a\":5, \"b\":10})\n",
    "print(result)"
   ]
  },
  {
   "cell_type": "code",
   "execution_count": null,
   "id": "e33a0be3-7540-4fd5-9ee9-7c45e04156f1",
   "metadata": {},
   "outputs": [],
   "source": []
  }
 ],
 "metadata": {
  "kernelspec": {
   "display_name": "Python 3 (ipykernel)",
   "language": "python",
   "name": "python3"
  },
  "language_info": {
   "codemirror_mode": {
    "name": "ipython",
    "version": 3
   },
   "file_extension": ".py",
   "mimetype": "text/x-python",
   "name": "python",
   "nbconvert_exporter": "python",
   "pygments_lexer": "ipython3",
   "version": "3.12.5"
  }
 },
 "nbformat": 4,
 "nbformat_minor": 5
}
