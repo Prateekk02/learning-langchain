{
 "cells": [
  {
   "cell_type": "markdown",
   "id": "0c52ab2e-3fca-429a-ab81-a1ac118d544e",
   "metadata": {},
   "source": [
    "# Currency Converter "
   ]
  },
  {
   "cell_type": "markdown",
   "id": "9183080d-3920-40ac-8e27-28f4c8e66a73",
   "metadata": {},
   "source": [
    "## Creating tools\n",
    "1. Tool for fetching real-time data from API\n",
    "2. Tool for multiplying currency with given amount"
   ]
  },
  {
   "cell_type": "code",
   "execution_count": 115,
   "id": "e9f0522e-7c24-4750-93d2-d4068d6797fa",
   "metadata": {},
   "outputs": [],
   "source": [
    "from langchain_community.tools import tool\n",
    "from langchain_core.tools import InjectedToolArg   # Prevents setting up of arguments by the model before calling the tools\n",
    "from typing import Annotated\n",
    "from dotenv import load_dotenv \n",
    "import requests\n",
    "import os\n",
    "\n",
    "load_dotenv()\n",
    "\n",
    "EXCHANGE_RATE_API_KEY = os.environ.get(\"EXCHANGE_RATE_API_KEY\")"
   ]
  },
  {
   "cell_type": "code",
   "execution_count": 116,
   "id": "af0bcbea-7c08-45bb-a145-f3db6673b8e6",
   "metadata": {},
   "outputs": [],
   "source": [
    "@tool\n",
    "def get_currency_factor(base_currency:str, target_currency:str) -> float:\n",
    "    \"\"\"\n",
    "    This function fetches the currency conversion factor between the base currency and the target currency.    \n",
    "    \"\"\"\n",
    "\n",
    "    url = f\" https://v6.exchangerate-api.com/v6/{EXCHANGE_RATE_API_KEY}/pair/{base_currency}/{target_currency}\"\n",
    "    response = requests.get(url)\n",
    "    return response.json()\n",
    "\n",
    "@tool\n",
    "def convert_currency(base_currency_amount: float, conversion_factor: Annotated[float, InjectedToolArg]) -> float:  \n",
    "    \"\"\"\n",
    "    Given a currency conversion factor this function calculates the target currency value from given base currency amount. \n",
    "    \"\"\"\n",
    "\n",
    "    return base_currency_amount * conversion_factor"
   ]
  },
  {
   "cell_type": "code",
   "execution_count": 117,
   "id": "5e16c523-0eaf-412e-8386-59276e8782a6",
   "metadata": {},
   "outputs": [
    {
     "data": {
      "text/plain": [
       "{'result': 'success',\n",
       " 'documentation': 'https://www.exchangerate-api.com/docs',\n",
       " 'terms_of_use': 'https://www.exchangerate-api.com/terms',\n",
       " 'time_last_update_unix': 1749600001,\n",
       " 'time_last_update_utc': 'Wed, 11 Jun 2025 00:00:01 +0000',\n",
       " 'time_next_update_unix': 1749686401,\n",
       " 'time_next_update_utc': 'Thu, 12 Jun 2025 00:00:01 +0000',\n",
       " 'base_code': 'USD',\n",
       " 'target_code': 'INR',\n",
       " 'conversion_rate': 85.608}"
      ]
     },
     "execution_count": 117,
     "metadata": {},
     "output_type": "execute_result"
    }
   ],
   "source": [
    "get_currency_factor.invoke({\"base_currency\": \"USD\", \"target_currency\": \"INR\"})"
   ]
  },
  {
   "cell_type": "markdown",
   "id": "afe17e11-b4cc-4428-9d9b-70ff1f214369",
   "metadata": {},
   "source": [
    "## Binding Tools"
   ]
  },
  {
   "cell_type": "code",
   "execution_count": 118,
   "id": "d1323428-ba60-4878-8f36-e0c08ebeb652",
   "metadata": {},
   "outputs": [],
   "source": [
    "from langchain_openai import ChatOpenAI\n",
    "\n",
    "llm = ChatOpenAI() \n",
    "\n",
    "llm_with_tool = llm.bind_tools([get_currency_factor, convert_currency])"
   ]
  },
  {
   "cell_type": "code",
   "execution_count": 119,
   "id": "abe528f1-52a3-47de-9f4b-856fc778bf78",
   "metadata": {},
   "outputs": [],
   "source": [
    "from langchain_core.messages import HumanMessage\n",
    "\n",
    "messages = [HumanMessage(content=\"What is the conversion rate of usd to inr, and based on that convert 400 usd to inr.\")]"
   ]
  },
  {
   "cell_type": "code",
   "execution_count": 120,
   "id": "b233fcf3-53ed-4335-b35f-4af55b99320b",
   "metadata": {},
   "outputs": [
    {
     "data": {
      "text/plain": [
       "AIMessage(content='', additional_kwargs={'tool_calls': [{'id': 'call_rvIy1SoYKhc0koWpoHIevlOy', 'function': {'arguments': '{\"base_currency\": \"USD\", \"target_currency\": \"INR\"}', 'name': 'get_currency_factor'}, 'type': 'function'}, {'id': 'call_h8TwhVjK8azZfsHqgmelgItb', 'function': {'arguments': '{\"base_currency_amount\": 400}', 'name': 'convert_currency'}, 'type': 'function'}], 'refusal': None}, response_metadata={'token_usage': {'completion_tokens': 53, 'prompt_tokens': 122, 'total_tokens': 175, 'completion_tokens_details': {'accepted_prediction_tokens': 0, 'audio_tokens': 0, 'reasoning_tokens': 0, 'rejected_prediction_tokens': 0}, 'prompt_tokens_details': {'audio_tokens': 0, 'cached_tokens': 0}}, 'model_name': 'gpt-3.5-turbo-0125', 'system_fingerprint': None, 'id': 'chatcmpl-Bh6VvEXs3VfytMzhZqmnSmzocp7QV', 'service_tier': 'default', 'finish_reason': 'tool_calls', 'logprobs': None}, id='run--cf40560d-8139-4adb-9764-bd2b2595fa3a-0', tool_calls=[{'name': 'get_currency_factor', 'args': {'base_currency': 'USD', 'target_currency': 'INR'}, 'id': 'call_rvIy1SoYKhc0koWpoHIevlOy', 'type': 'tool_call'}, {'name': 'convert_currency', 'args': {'base_currency_amount': 400}, 'id': 'call_h8TwhVjK8azZfsHqgmelgItb', 'type': 'tool_call'}], usage_metadata={'input_tokens': 122, 'output_tokens': 53, 'total_tokens': 175, 'input_token_details': {'audio': 0, 'cache_read': 0}, 'output_token_details': {'audio': 0, 'reasoning': 0}})"
      ]
     },
     "execution_count": 120,
     "metadata": {},
     "output_type": "execute_result"
    }
   ],
   "source": [
    "ai_message = llm_with_tool.invoke(messages)\n",
    "messages.append(ai_message)\n",
    "ai_message"
   ]
  },
  {
   "cell_type": "code",
   "execution_count": 121,
   "id": "b5f01fe4-64f8-4a78-9bbe-0ff4d7b16c2f",
   "metadata": {},
   "outputs": [
    {
     "data": {
      "text/plain": [
       "[{'name': 'get_currency_factor',\n",
       "  'args': {'base_currency': 'USD', 'target_currency': 'INR'},\n",
       "  'id': 'call_rvIy1SoYKhc0koWpoHIevlOy',\n",
       "  'type': 'tool_call'},\n",
       " {'name': 'convert_currency',\n",
       "  'args': {'base_currency_amount': 400},\n",
       "  'id': 'call_h8TwhVjK8azZfsHqgmelgItb',\n",
       "  'type': 'tool_call'}]"
      ]
     },
     "execution_count": 121,
     "metadata": {},
     "output_type": "execute_result"
    }
   ],
   "source": [
    "ai_message.tool_calls"
   ]
  },
  {
   "cell_type": "markdown",
   "id": "34f3a701-ca6f-47c3-b43d-36e98819b0d2",
   "metadata": {},
   "source": [
    "- Because of Annoted and InjectedToolArg a hallucinated value is not filled in the args of convert_currency "
   ]
  },
  {
   "cell_type": "markdown",
   "id": "b42224fd-ad06-4c5a-80e7-5ea6e8da9c22",
   "metadata": {},
   "source": [
    "## Tool Execution "
   ]
  },
  {
   "cell_type": "markdown",
   "id": "15fb217d-5907-4963-8a01-fd4e79ce8d8a",
   "metadata": {},
   "source": [
    "1. Execute the first tool to get the conversion rate.\n",
    "2. Execute the second tool to obtain the amount in targeted currency    "
   ]
  },
  {
   "cell_type": "code",
   "execution_count": 122,
   "id": "b009c7c2-b86d-466d-8a5d-0a8c696b199e",
   "metadata": {},
   "outputs": [],
   "source": [
    "import json \n",
    "for tool_call in ai_message.tool_calls: \n",
    "    if tool_call['name'] == 'get_currency_factor': \n",
    "        tool_message1 = get_currency_factor.invoke(tool_call)\n",
    "        # fetch conversion rate \n",
    "        conversion_rate = json.loads(tool_message1.content)['conversion_rate']\n",
    "        # append tool_message1 to message list\n",
    "        messages.append(tool_message1)\n",
    "    if tool_call['name'] == 'convert_currency':\n",
    "        # fetch the current arg\n",
    "        tool_call['args']['conversion_factor'] = conversion_rate \n",
    "        tool_message2 = convert_currency.invoke(tool_call)\n",
    "        messages.append(tool_message2)"
   ]
  },
  {
   "cell_type": "code",
   "execution_count": 123,
   "id": "409d326c-fdd5-4eff-b9a9-9316ead0243e",
   "metadata": {},
   "outputs": [
    {
     "data": {
      "text/plain": [
       "[HumanMessage(content='What is the conversion rate of usd to inr, and based on that convert 400 usd to inr.', additional_kwargs={}, response_metadata={}),\n",
       " AIMessage(content='', additional_kwargs={'tool_calls': [{'id': 'call_rvIy1SoYKhc0koWpoHIevlOy', 'function': {'arguments': '{\"base_currency\": \"USD\", \"target_currency\": \"INR\"}', 'name': 'get_currency_factor'}, 'type': 'function'}, {'id': 'call_h8TwhVjK8azZfsHqgmelgItb', 'function': {'arguments': '{\"base_currency_amount\": 400}', 'name': 'convert_currency'}, 'type': 'function'}], 'refusal': None}, response_metadata={'token_usage': {'completion_tokens': 53, 'prompt_tokens': 122, 'total_tokens': 175, 'completion_tokens_details': {'accepted_prediction_tokens': 0, 'audio_tokens': 0, 'reasoning_tokens': 0, 'rejected_prediction_tokens': 0}, 'prompt_tokens_details': {'audio_tokens': 0, 'cached_tokens': 0}}, 'model_name': 'gpt-3.5-turbo-0125', 'system_fingerprint': None, 'id': 'chatcmpl-Bh6VvEXs3VfytMzhZqmnSmzocp7QV', 'service_tier': 'default', 'finish_reason': 'tool_calls', 'logprobs': None}, id='run--cf40560d-8139-4adb-9764-bd2b2595fa3a-0', tool_calls=[{'name': 'get_currency_factor', 'args': {'base_currency': 'USD', 'target_currency': 'INR'}, 'id': 'call_rvIy1SoYKhc0koWpoHIevlOy', 'type': 'tool_call'}, {'name': 'convert_currency', 'args': {'base_currency_amount': 400, 'conversion_factor': 85.608}, 'id': 'call_h8TwhVjK8azZfsHqgmelgItb', 'type': 'tool_call'}], usage_metadata={'input_tokens': 122, 'output_tokens': 53, 'total_tokens': 175, 'input_token_details': {'audio': 0, 'cache_read': 0}, 'output_token_details': {'audio': 0, 'reasoning': 0}}),\n",
       " ToolMessage(content='{\"result\": \"success\", \"documentation\": \"https://www.exchangerate-api.com/docs\", \"terms_of_use\": \"https://www.exchangerate-api.com/terms\", \"time_last_update_unix\": 1749600001, \"time_last_update_utc\": \"Wed, 11 Jun 2025 00:00:01 +0000\", \"time_next_update_unix\": 1749686401, \"time_next_update_utc\": \"Thu, 12 Jun 2025 00:00:01 +0000\", \"base_code\": \"USD\", \"target_code\": \"INR\", \"conversion_rate\": 85.608}', name='get_currency_factor', tool_call_id='call_rvIy1SoYKhc0koWpoHIevlOy'),\n",
       " ToolMessage(content='34243.200000000004', name='convert_currency', tool_call_id='call_h8TwhVjK8azZfsHqgmelgItb')]"
      ]
     },
     "execution_count": 123,
     "metadata": {},
     "output_type": "execute_result"
    }
   ],
   "source": [
    "messages"
   ]
  },
  {
   "cell_type": "code",
   "execution_count": 125,
   "id": "1180a37f-89d3-4091-92b8-58b773978cce",
   "metadata": {},
   "outputs": [
    {
     "name": "stdout",
     "output_type": "stream",
     "text": [
      "The conversion rate of USD to INR is 85.608. \n",
      "Based on this rate, 400 USD is equal to 34,243.20 INR.\n"
     ]
    }
   ],
   "source": [
    "answer = llm_with_tool.invoke(messages)\n",
    "print(answer.content)"
   ]
  },
  {
   "cell_type": "markdown",
   "id": "ca8f652f-02b7-468b-b4ce-39897ea033f1",
   "metadata": {},
   "source": [
    "### This project was not an AI Agent because it was not autonomous, we had to call the tool by ourselves. For an AI Agent these tool callings are automatic"
   ]
  },
  {
   "cell_type": "markdown",
   "id": "8444b522-a5bb-466d-9bb9-e6d9fc1fe47b",
   "metadata": {},
   "source": [
    "#### How would've an AI Agent workflow looked like "
   ]
  },
  {
   "cell_type": "markdown",
   "id": "8bea0047-860a-4c66-8b73-f1acb2c79f7a",
   "metadata": {},
   "source": [
    "1. User says: \"Convert 10 USD to INR\"\n",
    "2. LLM thinks: \"I don't know the rate. First, let me call get_conversion_factor\"\n",
    "3. Tool result comes : 85.3415\n",
    "4. LLM tools at result THINK again: \"Now I know the rate, next I should call convert_currency with 10 and 85.3415\"\n",
    "5. Tool result comes: 853.415 INR\n",
    "6. LLM summarizes: \"10 USD is 853.415 INR at current rate.\" "
   ]
  },
  {
   "cell_type": "code",
   "execution_count": null,
   "id": "ded80d63-14d8-47a2-866f-3f2916684097",
   "metadata": {},
   "outputs": [],
   "source": []
  }
 ],
 "metadata": {
  "kernelspec": {
   "display_name": "Python 3 (ipykernel)",
   "language": "python",
   "name": "python3"
  },
  "language_info": {
   "codemirror_mode": {
    "name": "ipython",
    "version": 3
   },
   "file_extension": ".py",
   "mimetype": "text/x-python",
   "name": "python",
   "nbconvert_exporter": "python",
   "pygments_lexer": "ipython3",
   "version": "3.12.5"
  }
 },
 "nbformat": 4,
 "nbformat_minor": 5
}
