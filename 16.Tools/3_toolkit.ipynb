{
 "cells": [
  {
   "cell_type": "markdown",
   "id": "ced3275b-101b-46a5-b9e6-2065a048d826",
   "metadata": {},
   "source": [
    "# Toolkit"
   ]
  },
  {
   "cell_type": "code",
   "execution_count": 1,
   "id": "98001f97-d2f7-4fb2-ab5b-a855707d93a4",
   "metadata": {},
   "outputs": [],
   "source": [
    "from langchain_community.tools import tool"
   ]
  },
  {
   "cell_type": "code",
   "execution_count": 2,
   "id": "29d1358c-dc83-41f6-90b4-e61d84af023b",
   "metadata": {},
   "outputs": [],
   "source": [
    "@tool\n",
    "def multiply(a:int, b:int) -> int:\n",
    "    '''Multiply two numbers'''\n",
    "    return a * b\n",
    "\n",
    "@tool\n",
    "def add(a: int, b: int) -> int:\n",
    "    '''Add two numbers'''\n",
    "    return a + b "
   ]
  },
  {
   "cell_type": "code",
   "execution_count": 3,
   "id": "23a9e919-a959-404f-8f2a-a5b1a3cbac92",
   "metadata": {},
   "outputs": [],
   "source": [
    "class MathToolkit: \n",
    "    def get_tools(self): \n",
    "        return [add, multiply]"
   ]
  },
  {
   "cell_type": "code",
   "execution_count": 4,
   "id": "24057f1c-c2c2-47de-b8c8-001fc484880d",
   "metadata": {},
   "outputs": [
    {
     "name": "stdout",
     "output_type": "stream",
     "text": [
      "add  =>  Add two numbers\n",
      "multiply  =>  Multiply two numbers\n"
     ]
    }
   ],
   "source": [
    "toolkit = MathToolkit()\n",
    "tools = toolkit.get_tools()\n",
    "\n",
    "for tool in tools: \n",
    "    print(tool.name, \" => \", tool.description)"
   ]
  },
  {
   "cell_type": "code",
   "execution_count": null,
   "id": "9a0bf45e-2c9f-49b0-98b9-a85453a2e706",
   "metadata": {},
   "outputs": [],
   "source": []
  }
 ],
 "metadata": {
  "kernelspec": {
   "display_name": "Python 3 (ipykernel)",
   "language": "python",
   "name": "python3"
  },
  "language_info": {
   "codemirror_mode": {
    "name": "ipython",
    "version": 3
   },
   "file_extension": ".py",
   "mimetype": "text/x-python",
   "name": "python",
   "nbconvert_exporter": "python",
   "pygments_lexer": "ipython3",
   "version": "3.12.5"
  }
 },
 "nbformat": 4,
 "nbformat_minor": 5
}
