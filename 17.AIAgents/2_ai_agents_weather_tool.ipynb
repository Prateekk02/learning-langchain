{
 "cells": [
  {
   "cell_type": "markdown",
   "id": "1a33838e-5c7e-4d0a-82c8-9f29480430e5",
   "metadata": {},
   "source": [
    "# AI Agent with Search and Weather tool capabilities."
   ]
  },
  {
   "cell_type": "code",
   "execution_count": 4,
   "id": "9769e6b6-87e3-48c4-985d-7640b865517c",
   "metadata": {},
   "outputs": [],
   "source": [
    "from langchain_community.tools import tool, DuckDuckGoSearchResults\n",
    "from langchain.agents import AgentExecutor, create_react_agent\n",
    "from langchain import hub \n",
    "from langchain_openai import ChatOpenAI\n",
    "import requests"
   ]
  },
  {
   "cell_type": "markdown",
   "id": "0bf2eded-9109-41be-a7f1-69198c9bd5bb",
   "metadata": {},
   "source": [
    "## Creating ReAct prompt, llm model "
   ]
  },
  {
   "cell_type": "code",
   "execution_count": 3,
   "id": "36c1ce0f-ba51-4999-8be3-858c3885a071",
   "metadata": {},
   "outputs": [
    {
     "name": "stderr",
     "output_type": "stream",
     "text": [
      "E:\\Learning-Curve\\Langchain\\.venv\\Lib\\site-packages\\langsmith\\client.py:272: LangSmithMissingAPIKeyWarning: API key must be provided when using hosted LangSmith API\n",
      "  warnings.warn(\n"
     ]
    }
   ],
   "source": [
    "prompt = hub.pull(\"hwchase17/react\")\n",
    "llm = ChatOpenAI()"
   ]
  },
  {
   "cell_type": "markdown",
   "id": "6696cfe8-9101-49b3-88c4-82f0e9c83834",
   "metadata": {},
   "source": [
    "## Creating weather tool & DuckDuckGo search tool   "
   ]
  },
  {
   "cell_type": "code",
   "execution_count": 6,
   "id": "65a72cff-be57-4551-9392-e5c164b3b6d2",
   "metadata": {},
   "outputs": [],
   "source": [
    "import os \n",
    "from dotenv import load_dotenv\n",
    "load_dotenv() \n",
    "secret_key = os.environ['WEATHER_API_KEY']"
   ]
  },
  {
   "cell_type": "code",
   "execution_count": 15,
   "id": "a12c20f7-f611-433c-8e33-b3574a8209db",
   "metadata": {},
   "outputs": [],
   "source": [
    "search_tool = DuckDuckGoSearchResults()\n",
    "\n",
    "@tool\n",
    "def weather_tool(city: str) -> str:\n",
    "    '''\n",
    "        This function fetches current weather data for a given city. \n",
    "    '''\n",
    "    try:\n",
    "        url = f'http://api.weatherstack.com/current? access_key = ${secret_key}& query = ${city}'\n",
    "        response = requests.get(url)\n",
    "        return response.json()\n",
    "    except:\n",
    "        response = \"Something went wrong.\"\n",
    "        return response.json()"
   ]
  },
  {
   "cell_type": "markdown",
   "id": "041abf81-94df-4836-bca9-624f6c0b17a3",
   "metadata": {},
   "source": [
    "## Creating ReAct Agent manually"
   ]
  },
  {
   "cell_type": "code",
   "execution_count": 16,
   "id": "4faf3997-579c-4bc6-a9e7-5c8b05305571",
   "metadata": {},
   "outputs": [],
   "source": [
    "agent = create_react_agent(\n",
    "    llm=llm,\n",
    "    tools=[search_tool, weather_tool], \n",
    "    prompt=prompt\n",
    ")"
   ]
  },
  {
   "cell_type": "markdown",
   "id": "b96985e1-1759-409e-9e53-66846217256e",
   "metadata": {},
   "source": [
    "## Creating Agent Executor"
   ]
  },
  {
   "cell_type": "code",
   "execution_count": 17,
   "id": "9c1be97b-ff3d-439e-8af3-00f8e37e52dd",
   "metadata": {},
   "outputs": [],
   "source": [
    "agent_executor = AgentExecutor(\n",
    "    tools=[search_tool, weather_tool],\n",
    "    agent=agent, \n",
    "    verbose=True\n",
    ")"
   ]
  },
  {
   "cell_type": "code",
   "execution_count": 18,
   "id": "5f9e0ca2-5b38-48f5-a48f-c2201807b13d",
   "metadata": {},
   "outputs": [
    {
     "name": "stdout",
     "output_type": "stream",
     "text": [
      "\n",
      "\n",
      "\u001b[1m> Entering new AgentExecutor chain...\u001b[0m\n",
      "\u001b[32;1m\u001b[1;3mI can use the weather_tool to find the temperature of Satna and then use Duck Duck Go to search for a speciality of Satna.\n",
      "Action: weather_tool\n",
      "Action Input: \"Satna\"\u001b[0m\u001b[33;1m\u001b[1;3m{'success': False, 'error': {'code': 101, 'type': 'missing_access_key', 'info': 'You have not supplied an API Access Key. [Required format: access_key=YOUR_ACCESS_KEY]'}}\u001b[0m\u001b[32;1m\u001b[1;3mIt seems like I need an API Access Key to use the weather_tool. I will use Duck Duck Go to search for the weather in Satna instead.\n",
      "Action: duckduckgo_results_json\n",
      "Action Input: \"weather in Satna\"\u001b[0m\u001b[36;1m\u001b[1;3msnippet: Satna - Weather forecast from Theweather.com. Weather conditions with updates on temperature, humidity, wind speed, snow, pressure, etc. for Satna, Madhya Pradesh, title: Satna Weather 14 days - Meteored, link: https://www.theweather.com/satna.htm, snippet: 12 day Satna Weather Forecast. Live Weather Warnings, hourly weather updates. Accurate Satna weather today, forecast for sun, rain, wind and temperature., title: Satna Weather Forecast, link: https://www.weather-forecast.com/locations/Satna/forecasts/latest, snippet: ☼ Satna Madhya Pradesh India 15 Day Weather Forecast. Today Satna Madhya Pradesh India: Clear with a temperature of 37°C and a wind East speed of 14 Km/h. The humidity will be 20% and there will be 0.0 mm of precipitation., title: Satna Madhya Pradesh India 15 Day Weather Forecast - Weather Avenue, link: https://m.weatheravenue.com/en/asia/in/madhya-pradesh/satna-weather-15-days.html, snippet: Plan you week with the help of our 10-day weather forecasts and weekend weather predictions for Satna, Madhya Pradesh, IN, title: 10 Day Weather - Satna, Madhya Pradesh, IN, link: https://www.weatherbug.com/weather-forecast/10-day-weather/satna-madhya-pradesh-in\u001b[0m\u001b[32;1m\u001b[1;3mI have found the current temperature of Satna, it is 37°C. Now, I will use Duck Duck Go to search for a speciality of Satna.\n",
      "Action: duckduckgo_results_json\n",
      "Action Input: \"speciality of Satna, India\"\u001b[0m\u001b[36;1m\u001b[1;3msnippet: Satna, city, northeastern Madhya Pradesh state, central India.It is situated about 25 miles (40 km) west of Rewa in an upland area on the Tons River, a tributary of the Ganges (Ganga) River.. The city served as the headquarters of the British political agent in the historic region of Baghelkhand.Satna has a number of Jain temples and the Hindu Lakshminarayan Temple, as well as mosques and a ..., title: Satna | Holy City, Temples, Pilgrimage | Britannica, link: https://www.britannica.com/place/Satna, snippet: The places near Satna offer different experiences, from exploring ancient temples and historical forts to national parks, scenic waterfalls, and much more. ... Discovering places to visit near Satna helps you discover and uncover the unsung gems of central India quite far from the madding crowd of tourist attractions near Satna. Table of ..., title: 15 Places To Visit Near Satna: Madhya Pradesh's Hidden Gems - TripXL, link: https://tripxl.com/blog/places-to-visit-near-satna/, snippet: Satna Tourist Spot: सतना अब सिर्फ सीमेंट उद्योग ही नहीं, बल्कि अपने धार्मिक और प्राकृतिक स्थलों के लिए भी जाना जा रहा है. वेंकटेश लोक से लेकर रामवन तक की यात्रा में ..., title: सिर्फ एक दिन में देखें सतना की ये 5 जगहें; इतिहास, आस्था और एडवेंचर का ..., link: https://hindi.news18.com/news/madhya-pradesh/satna-visit-these-5-wonderful-places-of-satna-in-just-one-day-full-package-of-history-faith-and-adventure-local18-ws-kl-9287378.html, snippet: Satna is located at 24. 34°N 80.49°E with an average elevation of 315 meters (1, 352 feet). The location is renowned for dolomite mines and limestone. Satna Smart City on Facebook. Satna Smart City Development Limited. Satna Smart City on Twitter. Tweet di @gameslookit. News Gallery. QR Code., title: Satna Smart City, link: https://satnasmartcity.org/state\u001b[0m\u001b[32;1m\u001b[1;3mI have found that one speciality of Satna is its Jain temples and the Hindu Lakshminarayan Temple. \n",
      "Final Answer: The current temperature of Satna is 37°C and one speciality of Satna is its Jain temples and the Hindu Lakshminarayan Temple.\u001b[0m\n",
      "\n",
      "\u001b[1m> Finished chain.\u001b[0m\n",
      "{'input': 'What is the temperature of Satna and give me one speciality of Satna?', 'output': 'The current temperature of Satna is 37°C and one speciality of Satna is its Jain temples and the Hindu Lakshminarayan Temple.'}\n"
     ]
    }
   ],
   "source": [
    "response = agent_executor.invoke({\"input\":\"What is the temperature of Satna and give me one speciality of Satna?\"})\n",
    "print(response)"
   ]
  },
  {
   "cell_type": "code",
   "execution_count": 21,
   "id": "653deabc-778f-44b3-b9b2-f28766191e04",
   "metadata": {},
   "outputs": [
    {
     "name": "stdout",
     "output_type": "stream",
     "text": [
      "The current temperature of Satna is 37°C and one speciality of Satna is its Jain temples and the Hindu Lakshminarayan Temple.\n"
     ]
    }
   ],
   "source": [
    "print(response['output'])"
   ]
  },
  {
   "cell_type": "code",
   "execution_count": null,
   "id": "0618f4bb-5125-49f9-8e3b-f4a100ff1e53",
   "metadata": {},
   "outputs": [],
   "source": []
  }
 ],
 "metadata": {
  "kernelspec": {
   "display_name": "Python 3 (ipykernel)",
   "language": "python",
   "name": "python3"
  },
  "language_info": {
   "codemirror_mode": {
    "name": "ipython",
    "version": 3
   },
   "file_extension": ".py",
   "mimetype": "text/x-python",
   "name": "python",
   "nbconvert_exporter": "python",
   "pygments_lexer": "ipython3",
   "version": "3.12.5"
  }
 },
 "nbformat": 4,
 "nbformat_minor": 5
}
